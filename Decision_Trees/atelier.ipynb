{
 "cells": [
  {
   "cell_type": "markdown",
   "metadata": {},
   "source": [
    "<center>\n",
    "    <img src=\"https://www.dates-concours.ma/wp-content/uploads/2019/05/ENSET-Mohemmedia-300x141.png\" width=\"300\" alt=\"ENSET logo\"  />\n",
    "</center>\n",
    "\n",
    "# Machine Learning – Decision Trees  workshop N°1\n",
    "### By Hamza El Anssari \n",
    "\n",
    "\n",
    "## Objectives\n",
    "\n",
    "After completing this lab you will be able to:\n",
    "\n",
    "-   Build a Decision Tree Model\n",
    "-   Use Cross Entropy"
   ]
  },
  {
   "cell_type": "markdown",
   "metadata": {},
   "source": [
    "<h2>Table of content</h2>\n",
    "\n",
    "<div class=\"alert alert-block alert-info\" style=\"margin-top: 20px\">\n",
    "<ul>\n",
    "    <li><a>Packages</a></li>\n",
    "    <li><a>Exercice 1 : Concepts de base</a></li>\n",
    "    <li><a>Exercice 2 : trouver un arbre de décision à partir d’un dataset</a></li>\n",
    "    <li><a>Exercice 3 : Implémentation & problèmes liés aux variables catégorielles (un peu de recherche…)</a></li>\n",
    "    <li><a>Exercice 4 : Implémentation basée sur sklearn</a></li>\n",
    "</ul>\n",
    "    \n",
    "</div>\n",
    " \n",
    "<hr>"
   ]
  },
  {
   "cell_type": "markdown",
   "metadata": {},
   "source": [
    "### <font color='red'>1 - Packages</font> ###\n",
    "First, let's run the cell below to import all the packages that you will need during this assignment. \n",
    "- [numpy](www.numpy.org) is the fundamental package for scientific computing with Python.\n",
    "- [sklearn](http://scikit-learn.org/stable/) provides simple and efficient tools for data mining and data analysis. \n",
    "- [matplotlib](http://matplotlib.org) is a library for plotting graphs in Python.\n",
    "- [seaborn](http://seaborn.pydata.org/) is a library that uses Matplotlib underneath to plot graphs. \n",
    "- [pandas](http://pandas.pydata.org/) is a library for data analysis and manipulation."
   ]
  },
  {
   "cell_type": "code",
   "execution_count": 1,
   "metadata": {
    "pycharm": {
     "name": "#%%\n"
    }
   },
   "outputs": [],
   "source": [
    "import pandas as pd\n",
    "import numpy as np\n",
    "from sklearn.metrics import accuracy_score\n",
    "from sklearn.model_selection import train_test_split\n",
    "import matplotlib.pyplot as plt\n",
    "import seaborn as sn"
   ]
  },
  {
   "cell_type": "markdown",
   "metadata": {},
   "source": [
    "### <font color='red'>2 - Exercice 1 : Concepts de base</font> ##"
   ]
  },
  {
   "cell_type": "markdown",
   "metadata": {},
   "source": [
    "**1 - Donner une brève description à un arbre de décision :**<br>\n",
    "<br>Decision Tree Classifier est l’un des algorithmes les plus populaires<br>\n",
    "    ▪ Simple à Comprendre et à interpreter.<br>\n",
    "    ▪ l’arbre de décision a une forme d’organigramme (flowchart): simple à comprendre et à interpréter.<br>\n",
    "    ▪ Cette forme est simple à utiliser pour la prise décision.<br>\n",
    "    ▪ Decision tree peut être utilisé pour faire la regression et pour faire la classification.<br>\n",
    "    ▪ Si un attribut crucial n’est pas représenté on ne pourra pas trouver d’arbre de décision qui apprenne les exemples\n",
    "    correctement..<br>\n",
    "    ▪ Le cheminement d’un individu dans l’arbre permet de le classer et d’aboutir à une décision.<br>\n",
    "<br>Decision Tree est un algorithm ML de type boite blanche.<br>\n",
    "    ▪ La logique de prise de decision n’est pas cachée.<br>\n",
    "    ▪ Cette propriété n’existe pas pour les algorithms ML de type boite noire. Par exemple Neural Network Algorithm.<br>\n",
    "    ▪ La phase d’apprentissage pour Decision Tree est plus rapide comparée à Neural Network.<br>\n",
    "    ▪ La complixité de l’arbre de decision est en function de la taille de learning dataset et le nombre d’attributs (features).<br>\n",
    "    ▪ Decision trees peuvent traiter des dataset large avec une bonne precision (accuracy).<br>"
   ]
  },
  {
   "cell_type": "markdown",
   "metadata": {},
   "source": [
    "**2 - Comment expliquer que les arbres de décision ont la qualité d’expressivité (Expressiveness) :**<br>\n",
    "Car l’arbre de décision a une forme d’organigramme (flowchart): simple à comprendre et à interpréter."
   ]
  },
  {
   "cell_type": "markdown",
   "metadata": {},
   "source": [
    "**3 - Comment les arbres de décision sont capables de générer des règles compréhensibles :**<br>\n",
    "A l'aide de flowchart."
   ]
  },
  {
   "cell_type": "markdown",
   "metadata": {},
   "source": [
    "**4 - Pourquoi dans un arbre de décision il faut mettre en valeur les attributs discriminants pour la classification ? :**<br>"
   ]
  },
  {
   "cell_type": "markdown",
   "metadata": {},
   "source": [
    "**5 - Quelles sont les étapes à suivre pour établir un bon modèle basé sur les arbres de décision :**<br>"
   ]
  },
  {
   "cell_type": "markdown",
   "metadata": {},
   "source": [
    "**6 - A quoi peut servir la métrique Gain information (Entropy) pour choisir la racine d’un arbre :**  Le paramètre k"
   ]
  },
  {
   "cell_type": "markdown",
   "metadata": {},
   "source": [
    "### <font color='red'>3 - Exercice 2 : trouver un arbre de décision à partir d’un dataset</font> ###"
   ]
  },
  {
   "cell_type": "markdown",
   "metadata": {},
   "source": [
    "**1 - Comment mesurer l’entropie (Gain information) d’un dataset :** "
   ]
  },
  {
   "cell_type": "markdown",
   "metadata": {},
   "source": [
    "<img src=\"https://miro.medium.com/max/391/1*nNY_7_aWRwp8E2DyGduEPg.png\" />"
   ]
  },
  {
   "cell_type": "markdown",
   "metadata": {},
   "source": [
    "<li>Donner la formule pour une classification binaire</li>"
   ]
  },
  {
   "cell_type": "markdown",
   "metadata": {},
   "source": [
    "<span>E(S) = -prob(c1) x log2(prob(c1))- prob(c2) x log2(prob(c2))</span>"
   ]
  },
  {
   "cell_type": "markdown",
   "metadata": {},
   "source": [
    "<li>Donner la formule pour un dataset ayant trois classes</li>"
   ]
  },
  {
   "cell_type": "markdown",
   "metadata": {},
   "source": [
    "<span>E(S) = -prob(c1) x log2(prob(c1))- prob(c2) x log2(prob(c2)) - proba(c3) x log2(proba(c3))</span>"
   ]
  },
  {
   "cell_type": "markdown",
   "metadata": {},
   "source": [
    "<li>Calculer l’entropie pour « dataset1 » puis pour « dataset2 »</li>"
   ]
  },
  {
   "cell_type": "markdown",
   "metadata": {},
   "source": [
    "E(dataset1) = - 6/9 x log2(6/9) - 3/9 x log2(3/9) = 0.918 bits "
   ]
  },
  {
   "cell_type": "markdown",
   "metadata": {},
   "source": [
    "E(dataset2) = - 5/14 x log2(5/14) - 5/14 x log2(5/14) - 4/14 x log2(4/14) = 1.577 bits "
   ]
  },
  {
   "cell_type": "markdown",
   "metadata": {},
   "source": [
    "**2 - Comment mesurer Gain information relatif à un attribut :**<br>"
   ]
  },
  {
   "cell_type": "markdown",
   "metadata": {},
   "source": [
    "<li>Donner la formule pour calculer Gain information pour un attribut</li>"
   ]
  },
  {
   "cell_type": "markdown",
   "metadata": {},
   "source": [
    "<img src=\"https://www.saedsayad.com/images/Entropy_gain.png\" />"
   ]
  },
  {
   "cell_type": "markdown",
   "metadata": {},
   "source": [
    "<li>Trouver la racine de l’arbre de décision pour DataSet 1</li>"
   ]
  },
  {
   "cell_type": "markdown",
   "metadata": {},
   "source": [
    "<p>On a 3 attributes dans dataset1 (T1 -T2 -T3). Donc on doit calculer le gain pour chaque attribut après l'attribut qui à le plus grand gain c'est la racine de l'arbre.</p>"
   ]
  },
  {
   "cell_type": "markdown",
   "metadata": {},
   "source": [
    "E(dataset1) = 0.918 bits "
   ]
  },
  {
   "cell_type": "markdown",
   "metadata": {},
   "source": [
    "<li>E(T1) = p(0) x E(0) + p(1) x E(1)</li>\n",
    "<li>p(0) = 5/9</li>\n",
    "<li>p(1) = 4/9</li>\n",
    "<li>E(0) = - 2/5 x log2(2/5) - 3/5 x log2(3/5) = 0.971 bits</li>\n",
    "<li>E(1) = - log2(1) = 0 bits</li>\n",
    "<li>E(T1) = 0.539 bits</li>"
   ]
  },
  {
   "cell_type": "markdown",
   "metadata": {},
   "source": [
    "<li>E(T2) = p(V) x E(V) + p(F) x E(F)</li>\n",
    "<li>p(V) = 5/9</li>\n",
    "<li>p(F) = 4/9</li>\n",
    "<li>E(F) = - 1/4 x log2(1/4) - 3/4 x log2(3/4) = 0.594 bits</li>\n",
    "<li>E(V) = - log2(1) = 0</li>\n",
    "<li>E(T2) = 0.264 bits</li>"
   ]
  },
  {
   "cell_type": "markdown",
   "metadata": {},
   "source": [
    "<li>E(T3) = p(N) x E(N) + p(O) x E(O) + p(I) x E(I)</li>\n",
    "<li>p(N) = 4/9</li>\n",
    "<li>p(O) = 3/9</li>\n",
    "<li>p(I) = 2/9</li>\n",
    "<li>E(N) = - 1/4 x log2(1/4) - 3/4 x log2(3/4) = 0.594 bits</li>\n",
    "<li>E(O) = - 1/3 x log2(1/3) - 2/3 x log2(2/3) = 0.918 bits</li>\n",
    "<li>E(I) = - log2(1) = 0</li>\n",
    "<li>E(T3) = 0.570 bits</li>"
   ]
  },
  {
   "cell_type": "markdown",
   "metadata": {},
   "source": [
    "<li>Gain(T1) = E(dataset1) - E(T1) = 0.379 bits</li>\n",
    "<li>Gain(T2) = E(dataset1) - E(T2) = 0.654 bits</li>\n",
    "<li>Gain(T3) = E(dataset1) - E(T3) = 0.348 bits</li>"
   ]
  },
  {
   "cell_type": "markdown",
   "metadata": {},
   "source": [
    "<b>Donc racine c'est T2</b2>"
   ]
  },
  {
   "cell_type": "markdown",
   "metadata": {},
   "source": [
    "### <font color='red'>4 - Exercice 3 : Implémentation & problèmes liés aux variables catégorielles (un peu de recherche…)</font> ###"
   ]
  },
  {
   "cell_type": "markdown",
   "metadata": {},
   "source": [
    "**1 - Donner une brève définition à une variable catégorielle tout en précisant les principales différences avec une\n",
    "variable continue :**<br>\n",
    "<br>\n",
    "<b><font color=\"blue\">Variable catégorielle</font></b>\n",
    "<p>Les variables catégorielles contiennent un nombre fini de catégories ou de groupes distincts. Les données catégorielles peuvent ne pas avoir un ordre logique. Par exemple, les prédicteurs catégoriels incluent le sexe, le type de matériau et le mode de paiement.</p>\n",
    "<b><font color=\"blue\">Variable continue</font></b>\n",
    "<p>Les variables continues sont des variables numériques qui ont un nombre infini de valeurs entre deux valeurs quelconques. Une variable continue peut être numérique ou date / heure. Par exemple, la longueur d'une pièce ou la date et l'heure de réception d'un paiement..</p>"
   ]
  },
  {
   "cell_type": "markdown",
   "metadata": {},
   "source": [
    "**2 - Que représente une variable discrète ?:**<br>\n",
    "<br>\n",
    "<b><font color=\"blue\">Variable discrète</font></b>\n",
    "<p>Les variables discrètes sont des variables numériques qui ont un nombre dénombrable de valeurs entre deux valeurs quelconques. Une variable discrète est toujours numérique. Par exemple, le nombre de réclamations clients ou le nombre de défauts ou défauts..</p>"
   ]
  },
  {
   "cell_type": "markdown",
   "metadata": {},
   "source": [
    "**3 - Est-ce que une variable catégorielle peut se trouver sous format numérique ? :**<br> oui"
   ]
  },
  {
   "cell_type": "markdown",
   "metadata": {},
   "source": [
    "**4 - Sachant que sklearn propose des implémentations d’arbre de décision qui acceptent des attributs\n",
    "numériques, comment procéder pour manipuler les variables catégorielles ? :**<br>\n",
    "on doit encodage les variable catégorielle à des varaibles numériques"
   ]
  },
  {
   "cell_type": "markdown",
   "metadata": {},
   "source": [
    "**5 - Quelles sont les différentes techniques d’encodage qui existent ? :**<br>\n",
    "<li>Label Encoding</li>\n",
    "<li>One Hot Encoding</li>\n",
    "<li>Dummy Encoding</li>\n",
    "<li>Ordinal Encoding</li>\n",
    "<li>etc...</li>"
   ]
  },
  {
   "cell_type": "markdown",
   "metadata": {},
   "source": [
    "**6 - Quelles sont les pratiques à suivre pour appliquer un bon encodage ? :**<br> "
   ]
  },
  {
   "cell_type": "markdown",
   "metadata": {},
   "source": [
    "### <font color='red'>5 - Exercice 4 : Implémentation basée sur sklearn</font> ###"
   ]
  },
  {
   "cell_type": "markdown",
   "metadata": {},
   "source": [
    "**1 - Dataset 1 :**<br>\n",
    "Après réalisation de l’exercice 3."
   ]
  },
  {
   "cell_type": "code",
   "execution_count": 12,
   "metadata": {},
   "outputs": [
    {
     "data": {
      "text/html": [
       "<div>\n",
       "<style scoped>\n",
       "    .dataframe tbody tr th:only-of-type {\n",
       "        vertical-align: middle;\n",
       "    }\n",
       "\n",
       "    .dataframe tbody tr th {\n",
       "        vertical-align: top;\n",
       "    }\n",
       "\n",
       "    .dataframe thead th {\n",
       "        text-align: right;\n",
       "    }\n",
       "</style>\n",
       "<table border=\"1\" class=\"dataframe\">\n",
       "  <thead>\n",
       "    <tr style=\"text-align: right;\">\n",
       "      <th></th>\n",
       "      <th>T1</th>\n",
       "      <th>T2</th>\n",
       "      <th>T3</th>\n",
       "      <th>classe</th>\n",
       "    </tr>\n",
       "  </thead>\n",
       "  <tbody>\n",
       "    <tr>\n",
       "      <th>0</th>\n",
       "      <td>0</td>\n",
       "      <td>V</td>\n",
       "      <td>N</td>\n",
       "      <td>A</td>\n",
       "    </tr>\n",
       "    <tr>\n",
       "      <th>1</th>\n",
       "      <td>1</td>\n",
       "      <td>V</td>\n",
       "      <td>I</td>\n",
       "      <td>A</td>\n",
       "    </tr>\n",
       "    <tr>\n",
       "      <th>2</th>\n",
       "      <td>0</td>\n",
       "      <td>F</td>\n",
       "      <td>O</td>\n",
       "      <td>B</td>\n",
       "    </tr>\n",
       "    <tr>\n",
       "      <th>3</th>\n",
       "      <td>1</td>\n",
       "      <td>V</td>\n",
       "      <td>N</td>\n",
       "      <td>A</td>\n",
       "    </tr>\n",
       "    <tr>\n",
       "      <th>4</th>\n",
       "      <td>1</td>\n",
       "      <td>V</td>\n",
       "      <td>O</td>\n",
       "      <td>A</td>\n",
       "    </tr>\n",
       "    <tr>\n",
       "      <th>5</th>\n",
       "      <td>1</td>\n",
       "      <td>F</td>\n",
       "      <td>N</td>\n",
       "      <td>A</td>\n",
       "    </tr>\n",
       "    <tr>\n",
       "      <th>6</th>\n",
       "      <td>0</td>\n",
       "      <td>F</td>\n",
       "      <td>O</td>\n",
       "      <td>B</td>\n",
       "    </tr>\n",
       "    <tr>\n",
       "      <th>7</th>\n",
       "      <td>0</td>\n",
       "      <td>V</td>\n",
       "      <td>I</td>\n",
       "      <td>A</td>\n",
       "    </tr>\n",
       "    <tr>\n",
       "      <th>8</th>\n",
       "      <td>0</td>\n",
       "      <td>F</td>\n",
       "      <td>N</td>\n",
       "      <td>B</td>\n",
       "    </tr>\n",
       "  </tbody>\n",
       "</table>\n",
       "</div>"
      ],
      "text/plain": [
       "   T1 T2 T3 classe\n",
       "0   0  V  N      A\n",
       "1   1  V  I      A\n",
       "2   0  F  O      B\n",
       "3   1  V  N      A\n",
       "4   1  V  O      A\n",
       "5   1  F  N      A\n",
       "6   0  F  O      B\n",
       "7   0  V  I      A\n",
       "8   0  F  N      B"
      ]
     },
     "execution_count": 12,
     "metadata": {},
     "output_type": "execute_result"
    }
   ],
   "source": [
    "dataset1 = [[0,'V','N','A'],\n",
    "            [1,'V','I','A'],\n",
    "            [0,'F','O','B'],\n",
    "            [1,'V','N','A'],\n",
    "            [1,'V','O','A'],\n",
    "            [1,'F','N','A'],\n",
    "            [0,'F','O','B'],\n",
    "            [0,'V','I','A'],\n",
    "            [0,'F','N','B']]\n",
    "df1 = pd.DataFrame(data=dataset1, columns=['T1','T2','T3','classe'])\n",
    "df1.head(9)"
   ]
  },
  {
   "cell_type": "code",
   "execution_count": 24,
   "metadata": {},
   "outputs": [],
   "source": [
    "from sklearn.preprocessing import LabelEncoder \n",
    "le = LabelEncoder()\n",
    "df1[['T2','T3']] = df1[['T2','T3']].apply(LabelEncoder().fit_transform)"
   ]
  },
  {
   "cell_type": "code",
   "execution_count": 25,
   "metadata": {},
   "outputs": [
    {
     "data": {
      "text/html": [
       "<div>\n",
       "<style scoped>\n",
       "    .dataframe tbody tr th:only-of-type {\n",
       "        vertical-align: middle;\n",
       "    }\n",
       "\n",
       "    .dataframe tbody tr th {\n",
       "        vertical-align: top;\n",
       "    }\n",
       "\n",
       "    .dataframe thead th {\n",
       "        text-align: right;\n",
       "    }\n",
       "</style>\n",
       "<table border=\"1\" class=\"dataframe\">\n",
       "  <thead>\n",
       "    <tr style=\"text-align: right;\">\n",
       "      <th></th>\n",
       "      <th>T1</th>\n",
       "      <th>T2</th>\n",
       "      <th>T3</th>\n",
       "      <th>classe</th>\n",
       "    </tr>\n",
       "  </thead>\n",
       "  <tbody>\n",
       "    <tr>\n",
       "      <th>0</th>\n",
       "      <td>0</td>\n",
       "      <td>1</td>\n",
       "      <td>1</td>\n",
       "      <td>A</td>\n",
       "    </tr>\n",
       "    <tr>\n",
       "      <th>1</th>\n",
       "      <td>1</td>\n",
       "      <td>1</td>\n",
       "      <td>0</td>\n",
       "      <td>A</td>\n",
       "    </tr>\n",
       "    <tr>\n",
       "      <th>2</th>\n",
       "      <td>0</td>\n",
       "      <td>0</td>\n",
       "      <td>2</td>\n",
       "      <td>B</td>\n",
       "    </tr>\n",
       "    <tr>\n",
       "      <th>3</th>\n",
       "      <td>1</td>\n",
       "      <td>1</td>\n",
       "      <td>1</td>\n",
       "      <td>A</td>\n",
       "    </tr>\n",
       "    <tr>\n",
       "      <th>4</th>\n",
       "      <td>1</td>\n",
       "      <td>1</td>\n",
       "      <td>2</td>\n",
       "      <td>A</td>\n",
       "    </tr>\n",
       "  </tbody>\n",
       "</table>\n",
       "</div>"
      ],
      "text/plain": [
       "   T1  T2  T3 classe\n",
       "0   0   1   1      A\n",
       "1   1   1   0      A\n",
       "2   0   0   2      B\n",
       "3   1   1   1      A\n",
       "4   1   1   2      A"
      ]
     },
     "execution_count": 25,
     "metadata": {},
     "output_type": "execute_result"
    }
   ],
   "source": [
    "df1.head()"
   ]
  },
  {
   "cell_type": "code",
   "execution_count": 44,
   "metadata": {},
   "outputs": [],
   "source": [
    "# Features\n",
    "from sklearn.model_selection import train_test_split\n",
    "# Features seelection, target\n",
    "feature_cols = ['T1','T2','T3']\n",
    "X = df1[feature_cols]\n",
    "y = df1['classe']\n",
    "#split data 70% training and 30% test\n",
    "X_train, X_test, y_train, y_test = train_test_split(X, y, test_size=0.2, random_state=1) "
   ]
  },
  {
   "cell_type": "code",
   "execution_count": 62,
   "metadata": {},
   "outputs": [],
   "source": [
    "#import libraries\n",
    "from sklearn.tree import DecisionTreeClassifier\n",
    "def Model(X_train, y_train):\n",
    "    #create the Decision Tree Classifier model\n",
    "    model = DecisionTreeClassifier(criterion=\"entropy\")\n",
    "    # Train Decision Tree Classifer\n",
    "    model = model.fit(X_train,y_train)\n",
    "    return model"
   ]
  },
  {
   "cell_type": "code",
   "execution_count": 63,
   "metadata": {},
   "outputs": [
    {
     "data": {
      "text/plain": [
       "array(['B', 'B'], dtype=object)"
      ]
     },
     "execution_count": 63,
     "metadata": {},
     "output_type": "execute_result"
    }
   ],
   "source": [
    "model = Model(X_train, y_train)\n",
    "#predict\n",
    "y_pred = model.predict(X_test)\n",
    "y_pred"
   ]
  },
  {
   "cell_type": "code",
   "execution_count": 64,
   "metadata": {},
   "outputs": [
    {
     "data": {
      "text/plain": [
       "8    B\n",
       "2    B\n",
       "Name: classe, dtype: object"
      ]
     },
     "execution_count": 64,
     "metadata": {},
     "output_type": "execute_result"
    }
   ],
   "source": [
    "y_test"
   ]
  },
  {
   "cell_type": "code",
   "execution_count": 65,
   "metadata": {},
   "outputs": [],
   "source": [
    "# import libraries\n",
    "from sklearn.metrics import confusion_matrix\n",
    "from sklearn.metrics import accuracy_score\n",
    "def Confusion_Matrix(y_test, y_pred):\n",
    "    cm= confusion_matrix(y_test,y_pred)\n",
    "    print(\"cm: \\n\",cm)\n",
    "    print(\"Accuracy:\",accuracy_score(y_test, y_pred))"
   ]
  },
  {
   "cell_type": "code",
   "execution_count": 66,
   "metadata": {},
   "outputs": [
    {
     "name": "stdout",
     "output_type": "stream",
     "text": [
      "cm: \n",
      " [[2]]\n",
      "Accuracy: 1.0\n"
     ]
    }
   ],
   "source": [
    "Confusion_Matrix(y_test, y_pred)"
   ]
  },
  {
   "cell_type": "code",
   "execution_count": 67,
   "metadata": {},
   "outputs": [],
   "source": [
    "# import libraries\n",
    "from sklearn.tree import export_graphviz\n",
    "from six import StringIO\n",
    "from IPython.display import Image\n",
    "import pydotplus"
   ]
  },
  {
   "cell_type": "code",
   "execution_count": 70,
   "metadata": {},
   "outputs": [
    {
     "data": {
      "image/png": "[encoded data removed]",
      "text/plain": [
       "<IPython.core.display.Image object>"
      ]
     },
     "execution_count": 70,
     "metadata": {},
     "output_type": "execute_result"
    }
   ],
   "source": [
    "dot_data = StringIO()\n",
    "export_graphviz(model, out_file=dot_data,\n",
    " filled=True, rounded=True,\n",
    " special_characters=True,feature_names = feature_cols,class_names=['A','B'])\n",
    "graph = pydotplus.graph_from_dot_data(dot_data.getvalue())\n",
    "graph.write_png('dataset1.png')\n",
    "Image(graph.create_png())"
   ]
  },
  {
   "cell_type": "markdown",
   "metadata": {},
   "source": [
    "**2 - Dataset 2 :**<br>"
   ]
  },
  {
   "cell_type": "code",
   "execution_count": null,
   "metadata": {},
   "outputs": [],
   "source": []
  },
  {
   "cell_type": "code",
   "execution_count": null,
   "metadata": {},
   "outputs": [],
   "source": []
  }
 ],
 "metadata": {
  "kernelspec": {
   "display_name": "Python 3",
   "language": "python",
   "name": "python3"
  },
  "language_info": {
   "codemirror_mode": {
    "name": "ipython",
    "version": 3
   },
   "file_extension": ".py",
   "mimetype": "text/x-python",
   "name": "python",
   "nbconvert_exporter": "python",
   "pygments_lexer": "ipython3",
   "version": "3.8.5"
  }
 },
 "nbformat": 4,
 "nbformat_minor": 4
}
