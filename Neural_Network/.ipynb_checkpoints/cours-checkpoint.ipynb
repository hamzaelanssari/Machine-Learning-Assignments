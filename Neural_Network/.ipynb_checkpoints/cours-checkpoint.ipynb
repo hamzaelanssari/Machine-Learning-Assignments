{
 "cells": [
  {
   "cell_type": "code",
   "execution_count": 11,
   "metadata": {},
   "outputs": [],
   "source": [
    "from keras.models import Sequential\n",
    "from keras.layers import Flatten, Dense, Activation\n",
    "import keras\n",
    "import matplotlib.pyplot as plt"
   ]
  },
  {
   "cell_type": "code",
   "execution_count": 4,
   "metadata": {},
   "outputs": [
    {
     "name": "stdout",
     "output_type": "stream",
     "text": [
      "Downloading data from https://storage.googleapis.com/tensorflow/tf-keras-datasets/train-labels-idx1-ubyte.gz\n",
      "32768/29515 [=================================] - 0s 5us/step\n",
      "Downloading data from https://storage.googleapis.com/tensorflow/tf-keras-datasets/train-images-idx3-ubyte.gz\n",
      "26427392/26421880 [==============================] - 605s 23us/step\n",
      "Downloading data from https://storage.googleapis.com/tensorflow/tf-keras-datasets/t10k-labels-idx1-ubyte.gz\n",
      "8192/5148 [===============================================] - 0s 0us/step\n",
      "Downloading data from https://storage.googleapis.com/tensorflow/tf-keras-datasets/t10k-images-idx3-ubyte.gz\n",
      "4423680/4422102 [==============================] - 47s 11us/step\n"
     ]
    }
   ],
   "source": [
    "dataset = keras.datasets.fashion_mnist\n",
    "(X_train, y_train), (X_test, y_test) = dataset.load_data()"
   ]
  },
  {
   "cell_type": "code",
   "execution_count": 6,
   "metadata": {},
   "outputs": [
    {
     "data": {
      "text/plain": [
       "array([[[0, 0, 0, ..., 0, 0, 0],\n",
       "        [0, 0, 0, ..., 0, 0, 0],\n",
       "        [0, 0, 0, ..., 0, 0, 0],\n",
       "        ...,\n",
       "        [0, 0, 0, ..., 0, 0, 0],\n",
       "        [0, 0, 0, ..., 0, 0, 0],\n",
       "        [0, 0, 0, ..., 0, 0, 0]],\n",
       "\n",
       "       [[0, 0, 0, ..., 0, 0, 0],\n",
       "        [0, 0, 0, ..., 0, 0, 0],\n",
       "        [0, 0, 0, ..., 0, 0, 0],\n",
       "        ...,\n",
       "        [0, 0, 0, ..., 0, 0, 0],\n",
       "        [0, 0, 0, ..., 0, 0, 0],\n",
       "        [0, 0, 0, ..., 0, 0, 0]],\n",
       "\n",
       "       [[0, 0, 0, ..., 0, 0, 0],\n",
       "        [0, 0, 0, ..., 0, 0, 0],\n",
       "        [0, 0, 0, ..., 0, 0, 0],\n",
       "        ...,\n",
       "        [0, 0, 0, ..., 0, 0, 0],\n",
       "        [0, 0, 0, ..., 0, 0, 0],\n",
       "        [0, 0, 0, ..., 0, 0, 0]],\n",
       "\n",
       "       ...,\n",
       "\n",
       "       [[0, 0, 0, ..., 0, 0, 0],\n",
       "        [0, 0, 0, ..., 0, 0, 0],\n",
       "        [0, 0, 0, ..., 0, 0, 0],\n",
       "        ...,\n",
       "        [0, 0, 0, ..., 0, 0, 0],\n",
       "        [0, 0, 0, ..., 0, 0, 0],\n",
       "        [0, 0, 0, ..., 0, 0, 0]],\n",
       "\n",
       "       [[0, 0, 0, ..., 0, 0, 0],\n",
       "        [0, 0, 0, ..., 0, 0, 0],\n",
       "        [0, 0, 0, ..., 0, 0, 0],\n",
       "        ...,\n",
       "        [0, 0, 0, ..., 0, 0, 0],\n",
       "        [0, 0, 0, ..., 0, 0, 0],\n",
       "        [0, 0, 0, ..., 0, 0, 0]],\n",
       "\n",
       "       [[0, 0, 0, ..., 0, 0, 0],\n",
       "        [0, 0, 0, ..., 0, 0, 0],\n",
       "        [0, 0, 0, ..., 0, 0, 0],\n",
       "        ...,\n",
       "        [0, 0, 0, ..., 0, 0, 0],\n",
       "        [0, 0, 0, ..., 0, 0, 0],\n",
       "        [0, 0, 0, ..., 0, 0, 0]]], dtype=uint8)"
      ]
     },
     "execution_count": 6,
     "metadata": {},
     "output_type": "execute_result"
    }
   ],
   "source": [
    "X_train"
   ]
  },
  {
   "cell_type": "code",
   "execution_count": 19,
   "metadata": {},
   "outputs": [
    {
     "data": {
      "text/plain": [
       "(60000,)"
      ]
     },
     "execution_count": 19,
     "metadata": {},
     "output_type": "execute_result"
    }
   ],
   "source": [
    "y_train.shape"
   ]
  },
  {
   "cell_type": "code",
   "execution_count": 17,
   "metadata": {},
   "outputs": [
    {
     "data": {
      "text/plain": [
       "array([[0.        , 0.        , 0.        , 0.        , 0.        ,\n",
       "        0.        , 0.        , 0.        , 0.00392157, 0.        ,\n",
       "        0.2627451 , 0.69411765, 0.50588235, 0.6       , 0.45882353,\n",
       "        0.50588235, 0.57254902, 0.55294118, 0.68627451, 0.        ,\n",
       "        0.        , 0.        , 0.        , 0.        , 0.        ,\n",
       "        0.        , 0.        , 0.        ],\n",
       "       [0.        , 0.        , 0.        , 0.        , 0.        ,\n",
       "        0.        , 0.        , 0.        , 0.00784314, 0.        ,\n",
       "        0.76862745, 1.        , 1.        , 1.        , 0.94509804,\n",
       "        0.98431373, 1.        , 0.96078431, 1.        , 0.29803922,\n",
       "        0.        , 0.        , 0.        , 0.        , 0.        ,\n",
       "        0.        , 0.        , 0.        ],\n",
       "       [0.        , 0.        , 0.        , 0.        , 0.        ,\n",
       "        0.        , 0.        , 0.        , 0.        , 0.        ,\n",
       "        0.95294118, 0.92941176, 0.85098039, 0.89411765, 0.90588235,\n",
       "        0.87058824, 0.85490196, 0.85882353, 1.        , 0.45490196,\n",
       "        0.        , 0.        , 0.        , 0.        , 0.        ,\n",
       "        0.        , 0.        , 0.        ],\n",
       "       [0.        , 0.        , 0.        , 0.        , 0.        ,\n",
       "        0.        , 0.        , 0.        , 0.        , 0.        ,\n",
       "        1.        , 0.92156863, 0.90588235, 0.91372549, 0.88627451,\n",
       "        0.88235294, 0.89803922, 0.87058824, 1.        , 0.56862745,\n",
       "        0.        , 0.        , 0.        , 0.        , 0.        ,\n",
       "        0.        , 0.        , 0.        ],\n",
       "       [0.        , 0.        , 0.        , 0.        , 0.        ,\n",
       "        0.        , 0.        , 0.        , 0.        , 0.09019608,\n",
       "        1.        , 0.90196078, 0.89803922, 0.91372549, 0.89803922,\n",
       "        0.88235294, 0.89019608, 0.86666667, 0.94509804, 0.65490196,\n",
       "        0.        , 0.        , 0.        , 0.        , 0.        ,\n",
       "        0.        , 0.        , 0.        ],\n",
       "       [0.        , 0.        , 0.        , 0.        , 0.        ,\n",
       "        0.        , 0.        , 0.        , 0.        , 0.2627451 ,\n",
       "        1.        , 0.88235294, 0.91764706, 0.90588235, 0.88627451,\n",
       "        0.89019608, 0.89411765, 0.87843137, 0.91764706, 0.73333333,\n",
       "        0.        , 0.        , 0.        , 0.        , 0.        ,\n",
       "        0.        , 0.        , 0.        ],\n",
       "       [0.        , 0.        , 0.        , 0.        , 0.        ,\n",
       "        0.        , 0.        , 0.        , 0.        , 0.44705882,\n",
       "        0.97647059, 0.85098039, 0.92156863, 0.93333333, 0.96078431,\n",
       "        0.89019608, 0.89019608, 0.88235294, 0.94509804, 0.69019608,\n",
       "        0.        , 0.        , 0.        , 0.        , 0.        ,\n",
       "        0.        , 0.        , 0.        ],\n",
       "       [0.        , 0.        , 0.        , 0.        , 0.        ,\n",
       "        0.        , 0.        , 0.        , 0.        , 0.65490196,\n",
       "        0.96862745, 0.89019608, 0.90588235, 0.98039216, 0.78431373,\n",
       "        0.97254902, 0.90588235, 0.87843137, 0.98431373, 0.57647059,\n",
       "        0.        , 0.        , 0.        , 0.        , 0.        ,\n",
       "        0.        , 0.        , 0.        ],\n",
       "       [0.        , 0.        , 0.        , 0.        , 0.        ,\n",
       "        0.        , 0.        , 0.        , 0.        , 0.81568627,\n",
       "        0.94901961, 0.88235294, 0.95294118, 0.88235294, 0.        ,\n",
       "        1.        , 0.91372549, 0.88627451, 1.        , 0.50588235,\n",
       "        0.        , 0.        , 0.        , 0.        , 0.        ,\n",
       "        0.        , 0.        , 0.        ],\n",
       "       [0.        , 0.        , 0.        , 0.        , 0.        ,\n",
       "        0.        , 0.        , 0.        , 0.        , 0.8745098 ,\n",
       "        0.93333333, 0.8745098 , 1.        , 0.63137255, 0.        ,\n",
       "        1.        , 0.9254902 , 0.8745098 , 1.        , 0.52941176,\n",
       "        0.        , 0.        , 0.        , 0.        , 0.        ,\n",
       "        0.        , 0.        , 0.        ],\n",
       "       [0.        , 0.        , 0.        , 0.        , 0.        ,\n",
       "        0.        , 0.        , 0.        , 0.        , 0.96078431,\n",
       "        0.92156863, 0.87058824, 1.        , 0.28235294, 0.        ,\n",
       "        0.97254902, 0.99607843, 0.85098039, 1.        , 0.56862745,\n",
       "        0.        , 0.        , 0.        , 0.        , 0.        ,\n",
       "        0.        , 0.        , 0.        ],\n",
       "       [0.        , 0.        , 0.        , 0.        , 0.        ,\n",
       "        0.        , 0.        , 0.        , 0.        , 1.        ,\n",
       "        0.91372549, 0.88627451, 1.        , 0.02745098, 0.        ,\n",
       "        0.74901961, 0.97254902, 0.8627451 , 1.        , 0.49411765,\n",
       "        0.        , 0.        , 0.        , 0.        , 0.        ,\n",
       "        0.        , 0.        , 0.        ],\n",
       "       [0.        , 0.        , 0.        , 0.        , 0.        ,\n",
       "        0.        , 0.        , 0.        , 0.        , 1.        ,\n",
       "        0.91372549, 0.90588235, 0.98431373, 0.        , 0.        ,\n",
       "        0.62352941, 0.98431373, 0.86666667, 1.        , 0.43529412,\n",
       "        0.        , 0.        , 0.        , 0.        , 0.        ,\n",
       "        0.        , 0.        , 0.        ],\n",
       "       [0.        , 0.        , 0.        , 0.        , 0.        ,\n",
       "        0.        , 0.        , 0.        , 0.        , 1.        ,\n",
       "        0.90980392, 0.9254902 , 0.84705882, 0.        , 0.        ,\n",
       "        0.51372549, 0.99215686, 0.8627451 , 1.        , 0.43529412,\n",
       "        0.        , 0.        , 0.        , 0.        , 0.        ,\n",
       "        0.        , 0.        , 0.        ],\n",
       "       [0.        , 0.        , 0.        , 0.        , 0.        ,\n",
       "        0.        , 0.        , 0.        , 0.        , 1.        ,\n",
       "        0.89411765, 0.95294118, 0.6745098 , 0.        , 0.        ,\n",
       "        0.22352941, 0.97647059, 0.87058824, 1.        , 0.43529412,\n",
       "        0.        , 0.        , 0.        , 0.        , 0.        ,\n",
       "        0.        , 0.        , 0.        ],\n",
       "       [0.        , 0.        , 0.        , 0.        , 0.        ,\n",
       "        0.        , 0.        , 0.        , 0.        , 1.        ,\n",
       "        0.90196078, 0.95686275, 0.54509804, 0.        , 0.        ,\n",
       "        0.03921569, 1.        , 0.89019608, 1.        , 0.39215686,\n",
       "        0.        , 0.        , 0.        , 0.        , 0.        ,\n",
       "        0.        , 0.        , 0.        ],\n",
       "       [0.        , 0.        , 0.        , 0.        , 0.        ,\n",
       "        0.        , 0.        , 0.        , 0.        , 0.89019608,\n",
       "        0.92941176, 0.94901961, 0.44313725, 0.        , 0.        ,\n",
       "        0.02352941, 1.        , 0.90196078, 1.        , 0.34901961,\n",
       "        0.        , 0.        , 0.        , 0.        , 0.        ,\n",
       "        0.        , 0.        , 0.        ],\n",
       "       [0.        , 0.        , 0.        , 0.        , 0.        ,\n",
       "        0.        , 0.        , 0.        , 0.        , 0.8       ,\n",
       "        0.9372549 , 0.96078431, 0.59215686, 0.        , 0.        ,\n",
       "        0.        , 1.        , 0.89019608, 1.        , 0.38823529,\n",
       "        0.        , 0.        , 0.        , 0.        , 0.        ,\n",
       "        0.        , 0.        , 0.        ],\n",
       "       [0.        , 0.        , 0.        , 0.        , 0.        ,\n",
       "        0.        , 0.        , 0.        , 0.        , 0.59215686,\n",
       "        0.96078431, 0.93333333, 0.77647059, 0.        , 0.        ,\n",
       "        0.        , 1.        , 0.91764706, 1.        , 0.36078431,\n",
       "        0.        , 0.        , 0.        , 0.        , 0.        ,\n",
       "        0.        , 0.        , 0.        ],\n",
       "       [0.        , 0.        , 0.        , 0.        , 0.        ,\n",
       "        0.        , 0.        , 0.        , 0.        , 0.34901961,\n",
       "        0.97254902, 0.91372549, 0.97254902, 0.        , 0.        ,\n",
       "        0.        , 0.98823529, 0.92941176, 1.        , 0.35294118,\n",
       "        0.        , 0.        , 0.        , 0.        , 0.        ,\n",
       "        0.        , 0.        , 0.        ],\n",
       "       [0.        , 0.        , 0.        , 0.        , 0.        ,\n",
       "        0.        , 0.        , 0.        , 0.        , 0.12156863,\n",
       "        0.94117647, 0.89803922, 0.88627451, 0.        , 0.        ,\n",
       "        0.        , 0.9372549 , 0.93333333, 1.        , 0.36078431,\n",
       "        0.        , 0.        , 0.        , 0.        , 0.        ,\n",
       "        0.        , 0.        , 0.        ],\n",
       "       [0.        , 0.        , 0.        , 0.        , 0.        ,\n",
       "        0.        , 0.        , 0.        , 0.        , 0.        ,\n",
       "        0.88627451, 0.91372549, 0.92941176, 0.13333333, 0.        ,\n",
       "        0.        , 0.91764706, 0.93333333, 1.        , 0.37254902,\n",
       "        0.        , 0.        , 0.        , 0.        , 0.        ,\n",
       "        0.        , 0.        , 0.        ],\n",
       "       [0.        , 0.        , 0.        , 0.        , 0.        ,\n",
       "        0.        , 0.        , 0.        , 0.        , 0.        ,\n",
       "        0.91372549, 0.9254902 , 0.95686275, 0.26666667, 0.        ,\n",
       "        0.        , 0.81960784, 0.94509804, 0.92941176, 0.38431373,\n",
       "        0.        , 0.        , 0.        , 0.        , 0.        ,\n",
       "        0.        , 0.        , 0.        ],\n",
       "       [0.        , 0.        , 0.        , 0.        , 0.        ,\n",
       "        0.        , 0.        , 0.        , 0.00392157, 0.        ,\n",
       "        0.59607843, 0.94901961, 0.96078431, 0.50196078, 0.        ,\n",
       "        0.        , 0.77647059, 0.94509804, 0.93333333, 0.31764706,\n",
       "        0.        , 0.        , 0.        , 0.        , 0.        ,\n",
       "        0.        , 0.        , 0.        ],\n",
       "       [0.        , 0.        , 0.        , 0.        , 0.        ,\n",
       "        0.        , 0.        , 0.        , 0.00784314, 0.        ,\n",
       "        0.28627451, 0.96470588, 0.94509804, 0.82745098, 0.        ,\n",
       "        0.        , 0.79215686, 0.94117647, 0.92941176, 0.29019608,\n",
       "        0.        , 0.        , 0.        , 0.        , 0.        ,\n",
       "        0.        , 0.        , 0.        ],\n",
       "       [0.        , 0.        , 0.        , 0.        , 0.        ,\n",
       "        0.        , 0.        , 0.        , 0.01568627, 0.        ,\n",
       "        0.        , 0.89803922, 0.9254902 , 0.81960784, 0.        ,\n",
       "        0.        , 0.61960784, 0.96862745, 0.93333333, 0.38823529,\n",
       "        0.        , 0.        , 0.        , 0.        , 0.        ,\n",
       "        0.        , 0.        , 0.        ],\n",
       "       [0.        , 0.        , 0.        , 0.        , 0.        ,\n",
       "        0.        , 0.        , 0.        , 0.00392157, 0.        ,\n",
       "        0.        , 0.78039216, 1.        , 0.96862745, 0.22745098,\n",
       "        0.        , 0.63137255, 1.        , 0.98823529, 0.46666667,\n",
       "        0.        , 0.        , 0.        , 0.        , 0.        ,\n",
       "        0.        , 0.        , 0.        ],\n",
       "       [0.        , 0.        , 0.        , 0.        , 0.        ,\n",
       "        0.        , 0.        , 0.        , 0.        , 0.        ,\n",
       "        0.        , 0.38431373, 0.62352941, 0.27843137, 0.        ,\n",
       "        0.        , 0.26666667, 0.69019608, 0.64313725, 0.22745098,\n",
       "        0.        , 0.        , 0.        , 0.        , 0.        ,\n",
       "        0.        , 0.        , 0.        ]])"
      ]
     },
     "execution_count": 17,
     "metadata": {},
     "output_type": "execute_result"
    }
   ],
   "source": [
    "X_test[2]"
   ]
  },
  {
   "cell_type": "code",
   "execution_count": 9,
   "metadata": {},
   "outputs": [
    {
     "data": {
      "text/plain": [
       "1"
      ]
     },
     "execution_count": 9,
     "metadata": {},
     "output_type": "execute_result"
    }
   ],
   "source": [
    "y_test[2]"
   ]
  },
  {
   "cell_type": "code",
   "execution_count": 12,
   "metadata": {},
   "outputs": [
    {
     "data": {
      "text/plain": [
       "<matplotlib.image.AxesImage at 0x7fe91785e400>"
      ]
     },
     "execution_count": 12,
     "metadata": {},
     "output_type": "execute_result"
    },
    {
     "data": {
      "image/png": "[encoded data removed]",
      "text/plain": [
       "<Figure size 288x288 with 1 Axes>"
      ]
     },
     "metadata": {
      "needs_background": "light"
     },
     "output_type": "display_data"
    }
   ],
   "source": [
    "plt.matshow(X_test[2])"
   ]
  },
  {
   "cell_type": "code",
   "execution_count": 13,
   "metadata": {},
   "outputs": [],
   "source": [
    "X_train = X_train/255\n",
    "X_test = X_test/255"
   ]
  },
  {
   "cell_type": "code",
   "execution_count": 14,
   "metadata": {},
   "outputs": [
    {
     "name": "stdout",
     "output_type": "stream",
     "text": [
      "Model: \"sequential\"\n",
      "_________________________________________________________________\n",
      "Layer (type)                 Output Shape              Param #   \n",
      "=================================================================\n",
      "flatten (Flatten)            (None, 784)               0         \n",
      "_________________________________________________________________\n",
      "dense (Dense)                (None, 20)                15700     \n",
      "_________________________________________________________________\n",
      "dense_1 (Dense)              (None, 10)                210       \n",
      "=================================================================\n",
      "Total params: 15,910\n",
      "Trainable params: 15,910\n",
      "Non-trainable params: 0\n",
      "_________________________________________________________________\n",
      "None\n",
      "[array([[-0.01604807, -0.02821758,  0.0716707 , ...,  0.05034828,\n",
      "         0.05867706,  0.02057324],\n",
      "       [ 0.03022303,  0.06968763,  0.04775105, ...,  0.05201864,\n",
      "         0.03363647,  0.03946146],\n",
      "       [-0.07697789, -0.08321659, -0.07404216, ...,  0.01006187,\n",
      "         0.03161111,  0.01075733],\n",
      "       ...,\n",
      "       [-0.04115895, -0.03991568,  0.07792826, ...,  0.05678125,\n",
      "         0.00557991,  0.06595287],\n",
      "       [ 0.01630035,  0.03698865,  0.03226661, ..., -0.02534648,\n",
      "         0.03620465, -0.0700113 ],\n",
      "       [-0.04608732,  0.00927588,  0.06761567, ..., -0.01292829,\n",
      "        -0.01670782,  0.04277441]], dtype=float32), array([0., 0., 0., 0., 0., 0., 0., 0., 0., 0., 0., 0., 0., 0., 0., 0., 0.,\n",
      "       0., 0., 0.], dtype=float32), array([[ 0.13570678,  0.32854617,  0.18718618,  0.02091324,  0.29610294,\n",
      "         0.07269585, -0.2335899 , -0.27945295, -0.1341278 , -0.2765665 ],\n",
      "       [-0.3888538 ,  0.2931649 ,  0.3484196 , -0.2636584 ,  0.34567916,\n",
      "         0.3208635 , -0.3419292 ,  0.11352324, -0.2558903 , -0.35038415],\n",
      "       [-0.31946138,  0.14735645,  0.15074635, -0.28283474, -0.38898385,\n",
      "         0.32769233,  0.43866467,  0.38985735,  0.21366078, -0.40787253],\n",
      "       [ 0.33439034,  0.0261744 , -0.01124319, -0.39696637,  0.29811025,\n",
      "         0.32461727, -0.22862506,  0.41241777,  0.12415773,  0.03907964],\n",
      "       [-0.2723686 ,  0.37031484,  0.28162485, -0.09386688,  0.04079893,\n",
      "        -0.02370051, -0.26708966,  0.18035793,  0.3868177 ,  0.00276753],\n",
      "       [ 0.4431795 , -0.37555617,  0.34350657,  0.08601081,  0.0964393 ,\n",
      "         0.14780128,  0.0085797 ,  0.29059196, -0.36637968,  0.12361509],\n",
      "       [-0.14788562,  0.3058235 ,  0.3917325 ,  0.3212906 , -0.08677161,\n",
      "        -0.27702564, -0.33934024, -0.18890226,  0.29607755,  0.41536534],\n",
      "       [ 0.1691764 ,  0.43769485,  0.24878883,  0.42558438, -0.1749661 ,\n",
      "         0.04994142, -0.27358288, -0.39549187,  0.0954349 ,  0.35832083],\n",
      "       [-0.00421494,  0.3663183 ,  0.11928731, -0.21769066, -0.08103395,\n",
      "        -0.41472387, -0.30084738, -0.08245331, -0.32403693,  0.14269686],\n",
      "       [ 0.13204342,  0.17240244, -0.38279969,  0.3859554 , -0.24361587,\n",
      "         0.11944771,  0.38729662, -0.23811416, -0.12824503, -0.32137144],\n",
      "       [-0.07788929,  0.00110015,  0.1510067 ,  0.02907616, -0.23318239,\n",
      "        -0.02111039, -0.2684519 ,  0.08499885,  0.10067368,  0.26087213],\n",
      "       [-0.23374152,  0.09554398,  0.42009515,  0.17306548,  0.08779466,\n",
      "         0.14803416,  0.28363037,  0.33483046,  0.04649457,  0.1580919 ],\n",
      "       [ 0.01873085,  0.01825383, -0.3758144 , -0.3573678 , -0.06172293,\n",
      "        -0.13395795, -0.19298404,  0.20780063,  0.17770827, -0.37448108],\n",
      "       [-0.05772486, -0.327151  , -0.00507262,  0.0872823 , -0.2970443 ,\n",
      "         0.00214496, -0.2830481 , -0.4371259 , -0.38478288,  0.0400126 ],\n",
      "       [ 0.13240176, -0.18487254, -0.13014945,  0.08212793, -0.1926403 ,\n",
      "        -0.27641234, -0.31985012,  0.4129089 , -0.33891258, -0.01293573],\n",
      "       [-0.14449954,  0.1619994 , -0.00974214,  0.0678758 , -0.40201822,\n",
      "         0.17855161,  0.40952837,  0.11354268, -0.3488347 , -0.20899077],\n",
      "       [-0.2544928 , -0.37360463,  0.34354454,  0.4111721 , -0.12662745,\n",
      "        -0.1426315 ,  0.37472695,  0.27863228,  0.01301059, -0.04337829],\n",
      "       [ 0.05748582,  0.34089023,  0.13685864,  0.03084761,  0.27389163,\n",
      "         0.31372523, -0.4197513 ,  0.14606732, -0.3493031 ,  0.01108155],\n",
      "       [-0.31083262, -0.12693709, -0.14094278, -0.35188735, -0.15158513,\n",
      "        -0.09547722,  0.15663111,  0.29346985,  0.3766502 , -0.29880723],\n",
      "       [-0.08236995,  0.43980503, -0.28166604, -0.41879326,  0.24027514,\n",
      "        -0.28163332, -0.10059029,  0.06147385,  0.15930516, -0.34460375]],\n",
      "      dtype=float32), array([0., 0., 0., 0., 0., 0., 0., 0., 0., 0.], dtype=float32)]\n",
      "Epoch 1/10\n",
      "1875/1875 [==============================] - 15s 8ms/step - loss: 0.5921 - accuracy: 0.7957\n",
      "Epoch 2/10\n",
      "1875/1875 [==============================] - 9s 5ms/step - loss: 0.4192 - accuracy: 0.8538\n",
      "Epoch 3/10\n",
      "1875/1875 [==============================] - 14s 8ms/step - loss: 0.3877 - accuracy: 0.8640\n",
      "Epoch 4/10\n",
      "1875/1875 [==============================] - 11s 6ms/step - loss: 0.3685 - accuracy: 0.8700\n",
      "Epoch 5/10\n",
      "1875/1875 [==============================] - 10s 5ms/step - loss: 0.3563 - accuracy: 0.8744\n",
      "Epoch 6/10\n",
      "1875/1875 [==============================] - 9s 5ms/step - loss: 0.3473 - accuracy: 0.8768\n",
      "Epoch 7/10\n",
      "1875/1875 [==============================] - 12s 6ms/step - loss: 0.3395 - accuracy: 0.8795\n",
      "Epoch 8/10\n",
      "1875/1875 [==============================] - 12s 7ms/step - loss: 0.3325 - accuracy: 0.8821\n",
      "Epoch 9/10\n",
      "1875/1875 [==============================] - 13s 7ms/step - loss: 0.3256 - accuracy: 0.8842\n",
      "Epoch 10/10\n",
      "1875/1875 [==============================] - 10s 5ms/step - loss: 0.3202 - accuracy: 0.8855\n",
      "Model: \"sequential\"\n",
      "_________________________________________________________________\n",
      "Layer (type)                 Output Shape              Param #   \n",
      "=================================================================\n",
      "flatten (Flatten)            (None, 784)               0         \n",
      "_________________________________________________________________\n",
      "dense (Dense)                (None, 20)                15700     \n",
      "_________________________________________________________________\n",
      "dense_1 (Dense)              (None, 10)                210       \n",
      "=================================================================\n",
      "Total params: 15,910\n",
      "Trainable params: 15,910\n",
      "Non-trainable params: 0\n",
      "_________________________________________________________________\n",
      "None\n",
      "[array([[-0.01604807, -0.33860427,  0.3485278 , ...,  0.29463896,\n",
      "         0.11563753, -0.18069229],\n",
      "       [ 0.06392053, -0.06002118,  0.07127143, ...,  0.3028151 ,\n",
      "        -0.07739071, -0.22151811],\n",
      "       [-0.20108642, -0.32107726,  0.19258672, ..., -0.08342357,\n",
      "        -0.13424058, -0.2036652 ],\n",
      "       ...,\n",
      "       [ 0.0589881 ,  0.5943236 , -0.06532553, ...,  0.20227855,\n",
      "        -0.2610203 , -0.05303501],\n",
      "       [ 0.11010784,  0.67110497, -0.11266264, ...,  0.08254665,\n",
      "        -0.63714623,  0.11109069],\n",
      "       [-0.0238795 , -0.20295393,  0.12893292, ...,  0.04381774,\n",
      "        -0.54620445, -0.18064596]], dtype=float32), array([ 0.26068637,  0.18874924,  0.91138655, -0.13858221, -0.07620934,\n",
      "        1.0085111 , -0.17234556,  0.15292875,  0.01413216,  0.4484784 ,\n",
      "       -0.18472676, -0.01588198,  0.56694853,  0.67088765,  0.2815944 ,\n",
      "        0.67692494,  0.3664659 ,  0.5532146 ,  0.52002144, -0.6513728 ],\n",
      "      dtype=float32), array([[-7.4014455e-02,  1.1839713e-01,  2.7443039e-01, -5.1939707e+00,\n",
      "         6.1348271e-01,  8.4957361e-01, -6.4920712e-01, -1.0155828e+00,\n",
      "        -5.2792817e-01, -3.4115571e-01],\n",
      "       [-5.5620158e-01, -2.3140331e-01,  4.2303059e-01, -2.7903792e-01,\n",
      "         4.1240677e-01,  2.8271210e-01, -5.6515832e-02, -2.4715103e-01,\n",
      "        -9.1095191e-01, -8.6680907e-01],\n",
      "       [-1.7985369e-01, -4.9008480e-03,  3.7121452e-02, -2.8499702e-01,\n",
      "        -4.7789833e-01,  3.1584337e-01,  4.2939639e-01,  3.8579413e-01,\n",
      "         1.4230694e-01, -4.9376604e-01],\n",
      "       [-9.2860520e-02, -8.6343884e-01, -4.0106618e-01,  1.2339391e-01,\n",
      "         2.0618367e-01,  4.6972635e-01, -2.2132197e-02,  2.9191417e-01,\n",
      "         2.9441452e-01,  2.4220790e-01],\n",
      "       [-4.1541654e-01,  6.7555815e-01,  2.2391863e-01,  3.2634759e-01,\n",
      "         8.3419487e-02, -2.1686284e-01, -3.5544410e-01,  2.5645629e-01,\n",
      "         5.4894477e-01, -9.3306023e-01],\n",
      "       [-2.1957831e-01, -5.2320337e-01, -9.8720843e-01, -4.5853919e-01,\n",
      "        -7.3566175e-01,  5.9689343e-01, -6.1940563e-01,  2.0144458e-01,\n",
      "        -1.3986787e+00,  2.3530433e-01],\n",
      "       [-4.7782135e-01,  3.0161786e-01,  4.5480630e-01,  2.2231998e-01,\n",
      "        -7.9084046e-02, -3.3319408e-01, -4.8625287e-01, -1.8340820e-01,\n",
      "         5.9325075e-01,  6.2422317e-01],\n",
      "       [-1.0515555e-01,  5.2437747e-01, -2.9713845e-01,  5.7415688e-01,\n",
      "         2.1377119e-01, -1.4737490e-01, -2.5592685e-01, -6.4430553e-01,\n",
      "         4.1320166e-01,  2.0861404e-01],\n",
      "       [-1.4524020e-02,  8.3684385e-01,  1.6701065e-01, -3.4021991e-01,\n",
      "        -2.6545045e-01, -8.7791699e-01, -5.6105697e-01, -9.3466443e-01,\n",
      "        -3.3623174e-01,  2.3597332e-02],\n",
      "       [ 3.5291940e-01, -4.7774509e-01, -6.2791604e-01, -7.2252977e-01,\n",
      "        -2.8477868e-01,  7.6610792e-01, -1.5528056e-02, -9.8196590e-01,\n",
      "        -5.4518569e-01, -3.6984205e-01],\n",
      "       [-2.3313671e-01, -3.6402258e-01,  1.3427939e-01, -6.2197399e-01,\n",
      "        -4.5538500e-01,  4.7795132e-02, -3.3095416e-01, -3.6665153e-02,\n",
      "         1.9124720e-01,  5.1833677e-01],\n",
      "       [-2.5088999e-01,  8.2227476e-02,  4.0388411e-01,  1.7945175e-01,\n",
      "         7.4223377e-02,  1.7374727e-01,  2.6036784e-01,  3.0131680e-01,\n",
      "         4.6301976e-02,  1.3183530e-01],\n",
      "       [ 7.2639145e-02, -3.1540462e-01, -5.9392518e-01, -4.1271973e-01,\n",
      "        -2.1489154e-01,  1.8796283e-01, -4.3563759e-01,  2.1268910e-01,\n",
      "         5.8129883e-01, -9.2891908e-01],\n",
      "       [ 1.6202688e-01, -7.5229079e-01, -2.9665340e-02,  3.4452073e-02,\n",
      "        -2.3273732e-01, -3.9992842e-01, -1.7016748e-01, -7.3673749e-01,\n",
      "        -3.9429396e-01, -2.5045964e-01],\n",
      "       [-5.1300651e-01, -7.4691051e-01, -1.0655841e+00,  2.1731965e-01,\n",
      "        -9.2228746e-01, -5.7922757e-01, -4.1911829e-01,  7.2511262e-01,\n",
      "        -3.5926154e-01,  2.1464476e-01],\n",
      "       [ 1.9259307e-01,  3.1957405e-03, -6.3291997e-01,  1.6267528e-01,\n",
      "        -7.5796270e-01,  2.9514480e-01,  5.4235524e-01, -3.4510672e-01,\n",
      "        -8.8328522e-01, -9.3154460e-01],\n",
      "       [-1.3010558e-01, -6.0103041e-01,  3.2287565e-01,  3.9524019e-01,\n",
      "         8.3489463e-02, -5.5382550e-01,  5.1471043e-01, -9.4161425e-03,\n",
      "        -1.1990556e-01, -2.5331271e-01],\n",
      "       [-4.8183778e-01,  7.4165612e-01, -5.8487064e-01,  1.5139154e-01,\n",
      "         1.3363817e-01,  1.1162097e+00, -4.3140498e-01, -1.5308420e-01,\n",
      "        -5.0178939e-01, -8.3368003e-01],\n",
      "       [ 8.9597717e-02, -1.0277787e+00, -5.6865193e-02, -8.0761236e-01,\n",
      "        -2.0484710e-01, -3.1707716e-01,  2.2145326e-01, -1.0763769e-02,\n",
      "         4.6509725e-01, -5.5640036e-01],\n",
      "       [ 3.4255739e-02,  4.6286067e-01, -2.4742889e-01, -3.9917922e-01,\n",
      "         3.1928453e-01, -1.0988843e+00,  5.0241623e-02, -5.0799429e-01,\n",
      "         5.9179682e-02, -6.1278421e-01]], dtype=float32), array([ 0.5233734 , -0.8079929 ,  0.16806975,  0.350513  , -0.5983619 ,\n",
      "        0.36618558,  0.25871527,  0.16119537, -0.36581594, -0.8162624 ],\n",
      "      dtype=float32)]\n"
     ]
    }
   ],
   "source": [
    "model = Sequential()\n",
    "input_layer=Flatten(input_shape=[28, 28])\n",
    "model.add(input_layer)\n",
    "hidden_layer=Dense(20,activation=\"relu\")\n",
    "model.add(hidden_layer)\n",
    "output_layer=Dense(10, activation=\"softmax\")\n",
    "model.add(output_layer)"
   ]
  },
  {
   "cell_type": "code",
   "execution_count": null,
   "metadata": {},
   "outputs": [],
   "source": [
    "yp=model.predict(np.array([X_test[2]]))"
   ]
  },
  {
   "cell_type": "code",
   "execution_count": null,
   "metadata": {},
   "outputs": [],
   "source": [
    "classes = [\"T-shirt/top\",\"Trouser\",\"Pullover\",\"Dress\",\"Coat\",\"Sandal\",\"Shirt\",\"Sneaker\",\"Bag\",\"Ankle boot\"]\n",
    "classes[np.argmax(yp)]"
   ]
  },
  {
   "cell_type": "code",
   "execution_count": null,
   "metadata": {},
   "outputs": [],
   "source": [
    "yp = model.predict(X_test)"
   ]
  },
  {
   "cell_type": "code",
   "execution_count": null,
   "metadata": {},
   "outputs": [],
   "source": [
    "classes[np.argmax(yp[2])]"
   ]
  },
  {
   "cell_type": "code",
   "execution_count": null,
   "metadata": {},
   "outputs": [],
   "source": [
    "print(model.metrics_names)"
   ]
  },
  {
   "cell_type": "code",
   "execution_count": null,
   "metadata": {},
   "outputs": [],
   "source": [
    "metrics=model.evaluate(X_test,y_test)\n",
    "print(metrics)"
   ]
  }
 ],
 "metadata": {
  "kernelspec": {
   "display_name": "Python 3",
   "language": "python",
   "name": "python3"
  },
  "language_info": {
   "codemirror_mode": {
    "name": "ipython",
    "version": 3
   },
   "file_extension": ".py",
   "mimetype": "text/x-python",
   "name": "python",
   "nbconvert_exporter": "python",
   "pygments_lexer": "ipython3",
   "version": "3.8.5"
  }
 },
 "nbformat": 4,
 "nbformat_minor": 4
}
