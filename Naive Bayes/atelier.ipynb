{
 "cells": [
  {
   "cell_type": "markdown",
   "metadata": {},
   "source": [
    "<center>\n",
    "    <img src=\"https://www.dates-concours.ma/wp-content/uploads/2019/05/ENSET-Mohemmedia-300x141.png\" width=\"300\" alt=\"ENSET logo\"  />\n",
    "</center>\n",
    "\n",
    "# Machine Learning – Naive Bayes workshop N°1\n",
    "### By Hamza El Anssari \n",
    "\n",
    "\n",
    "## Objectives\n",
    "\n",
    "After completing this lab you will be able to:\n",
    "\n",
    "-   Build a Logistic Regression Model\n",
    "-   Use Cross Entropy"
   ]
  },
  {
   "cell_type": "markdown",
   "metadata": {},
   "source": [
    "<h2>Table of content</h2>\n",
    "\n",
    "<div class=\"alert alert-block alert-info\" style=\"margin-top: 20px\">\n",
    "<ul>\n",
    "    <li><a>Packages</a></li>\n",
    "    <li><a>Exercice 1 : Concepts de base</a></li>\n",
    "    <li><a>Exercice 2 : Mise en œuvre de knn</a></li>\n",
    "    <li><a>Exercice 3 : Visualisation de données</a></li>\n",
    "    <li><a>Exercice 4 : Evaluation du modèle en fonction de k</a></li>\n",
    "    <li><a>Exercice 5 : Etude de Dataset diabetes.csv</a></li>\n",
    "</ul>\n",
    "    \n",
    "</div>\n",
    " \n",
    "<hr>"
   ]
  },
  {
   "cell_type": "markdown",
   "metadata": {},
   "source": [
    "### <font color='red'>1 - Packages</font> ###\n",
    "First, let's run the cell below to import all the packages that you will need during this assignment. \n",
    "- [numpy](www.numpy.org) is the fundamental package for scientific computing with Python.\n",
    "- [sklearn](http://scikit-learn.org/stable/) provides simple and efficient tools for data mining and data analysis. \n",
    "- [matplotlib](http://matplotlib.org) is a library for plotting graphs in Python.\n",
    "- [seaborn](http://seaborn.pydata.org/) is a library that uses Matplotlib underneath to plot graphs. \n",
    "- [pandas](http://pandas.pydata.org/) is a library for data analysis and manipulation."
   ]
  },
  {
   "cell_type": "code",
   "execution_count": 3,
   "metadata": {
    "pycharm": {
     "name": "#%%\n"
    }
   },
   "outputs": [],
   "source": [
    "import pandas as pd\n",
    "import numpy as np\n",
    "from sklearn.metrics import accuracy_score\n",
    "from sklearn.model_selection import train_test_split\n",
    "from sklearn.naive_bayes import BernoulliNB\n",
    "from sklearn.naive_bayes import GaussianNB\n",
    "from sklearn.naive_bayes import MultinomialNB\n",
    "from sklearn import metrics\n",
    "import matplotlib.pyplot as plt\n",
    "import seaborn as sn"
   ]
  },
  {
   "cell_type": "markdown",
   "metadata": {},
   "source": [
    "### <font color='red'>2 - Exercice 1 : Concepts de base</font> ##"
   ]
  },
  {
   "cell_type": "markdown",
   "metadata": {},
   "source": [
    "**1 - Donner une brève description à KNN :**<br>\n",
    "L'algorithme des k-plus proches voisins (KNN) est un algorithme d'apprentissage automatique supervisé simple et facile à mettre en œuvre qui peut être utilisé pour résoudre des problèmes de classification et de régression."
   ]
  },
  {
   "cell_type": "markdown",
   "metadata": {},
   "source": [
    "**2 - Pourquoi KNN est considéré comme étant un « lazy learner »:**<br>\n",
    "K-NN est considéré comme étant un lazy learner car il n'apptrient pas la phase d’apprentissage"
   ]
  },
  {
   "cell_type": "markdown",
   "metadata": {},
   "source": [
    "**3 - Donner quelques cas d’utilisation de KNN:**<br>\n",
    "<li>Systèmes de recommandation</li>\n",
    "<li>Sciences politiques: classement des électeurs potentiels</li>\n",
    "<li>Classification des clients</li>\n",
    "<li>.....</li>"
   ]
  },
  {
   "cell_type": "markdown",
   "metadata": {},
   "source": [
    "**4 - Dans quels cas on ne peut pas utiliser le classifieur KNN:**<br>\n",
    "KNN permet de faire la classification pour les problèmes non linéairement séparable"
   ]
  },
  {
   "cell_type": "markdown",
   "metadata": {},
   "source": [
    "**5 - Quelles sont les principales faiblesses de KNN:**<br>\n",
    "<li>Ne fonctionne pas bien avec un grand dataset</li>\n",
    "<li>Sensible aux données bruyantes, aux valeurs manquantes.</li>\n",
    "<li>L'algorithme KNN ne fonctionne pas bien avec des données de grande dimension car avec un grand nombre de dimensions</li>"
   ]
  },
  {
   "cell_type": "markdown",
   "metadata": {},
   "source": [
    "**6 - Quels sont les paramètres importants du classifieur KNN:**  Le paramètre k"
   ]
  },
  {
   "cell_type": "markdown",
   "metadata": {},
   "source": [
    "**7 - Quelles sont les pratiques à suivre pour bien identifier le paramètre k:**  Calculer l'accuracy par rapport au paramètre k"
   ]
  },
  {
   "cell_type": "markdown",
   "metadata": {},
   "source": [
    "### <font color='red'>3 - Exercice 2 : Mise en œuvre de kNN</font> ###"
   ]
  },
  {
   "cell_type": "markdown",
   "metadata": {},
   "source": [
    "Soit S un dataset définie comme suit :<br>\n",
    "S = S1 U S2<br>\n",
    "\n",
    "S1 = {01010,11111,11010,11101,10101}<br>\n",
    "S2 = {01100,11001,10110,10101,10010}<br>\n",
    "\n",
    "C = {c1,c2]<br>\n",
    "\n",
    "Tous les enregistrements de S1 appartiennent à la classe C1<br>\n",
    "Tous les enregistrements de S2 appartiennent à la classe C2<br>"
   ]
  },
  {
   "cell_type": "markdown",
   "metadata": {},
   "source": [
    "**1 - Quel est le classifieur Naive Bayes à utiliser pour le dataset ci-dessus**  Bernoulli Naive Bayes car on a un dataset binaire <br>"
   ]
  },
  {
   "cell_type": "markdown",
   "metadata": {},
   "source": [
    "**2- En utilisant le classifieur Naive Bayes adéquat, Quelle est la classe que peut avoir x=00111**<br>\n",
    "\n",
    "<br>P(c1/x) = P(x/c1) * P(c1) * 1/P(x)\n",
    "<br>P(c2/x) = P(x/c2) * P(c2) * 1/P(x)\n",
    "\n",
    "<br>P(x/c1) = 1/5 * 1/5 * 3/5 * 3/5 * 3/5 = 0.00864\n",
    "<br>P(x/c2) = 1/5 * 3/5 * 3/5 * 2/5 * 2/5 = 0.01152\n",
    "<br>P(c1) = P(c2) = 1/2 = 0.5\n",
    "\n",
    "<br>P(c1/x) = 0.00432 * 1/P(x)\n",
    "<br>P(c2/x) = 0.00576 * 1/P(x)\n",
    "\n",
    "<b>Donc x appartient la classe c2</b>"
   ]
  },
  {
   "cell_type": "markdown",
   "metadata": {},
   "source": [
    "| byte1  | byte2 | byte3 | byte4 | byte5 | classe |\n",
    "| --- | --- | --- | --- | --- | --- |\n",
    "| 0 | 1 | 0 | 1 | 0 | c1\n",
    "| 1 | 1 | 1 | 1 | 1 | c1\n",
    "| 1 | 1 | 0 | 1 | 0 | c1\n",
    "| 1 | 1 | 1 | 0 | 1 | c1\n",
    "| 1 | 0 | 1 | 0 | 1 | c1\n",
    "| 0 | 1 | 1 | 0 | 0 | c2\n",
    "| 1 | 1 | 0 | 0 | 1 | c2\n",
    "| 1 | 0 | 1 | 1 | 0 | c2\n",
    "| 1 | 0 | 1 | 0 | 1 | c2\n",
    "| 1 | 0 | 0 | 1 | 0 | c2"
   ]
  },
  {
   "cell_type": "markdown",
   "metadata": {},
   "source": [
    "**3- Écrire un code source qui permet de calculer les probabilités nécessaires**"
   ]
  },
  {
   "cell_type": "code",
   "execution_count": 4,
   "metadata": {},
   "outputs": [],
   "source": [
    "def probability(dataset, x):\n",
    "    total_c1 = len(df[df['classe']=='c1'])\n",
    "    total_c2 = len(df[df['classe']=='c2'])\n",
    "    p_c1 = total_c1/len(dataset)\n",
    "    p_c2 = total_c2/len(dataset)\n",
    "    proba_c1 = 1\n",
    "    proba_c2 = 1\n",
    "    c1 = (df['classe']=='c1')\n",
    "    c2 = (df['classe']=='c2')\n",
    "    for i,val in enumerate(x):\n",
    "        proba_c1 *= (dataset[c1].iloc[:,i]== val).sum()\n",
    "        proba_c2 *= (dataset[c2].iloc[:,i]== val).sum()\n",
    "    pr_c1 = (proba_c1/np.power(total_c1,len(x)))*p_c1\n",
    "    pr_c2 = (proba_c2/np.power(total_c2,len(x)))*p_c2\n",
    "    return pr_c1,pr_c2"
   ]
  },
  {
   "cell_type": "code",
   "execution_count": 5,
   "metadata": {},
   "outputs": [
    {
     "data": {
      "text/html": [
       "<div>\n",
       "<style scoped>\n",
       "    .dataframe tbody tr th:only-of-type {\n",
       "        vertical-align: middle;\n",
       "    }\n",
       "\n",
       "    .dataframe tbody tr th {\n",
       "        vertical-align: top;\n",
       "    }\n",
       "\n",
       "    .dataframe thead th {\n",
       "        text-align: right;\n",
       "    }\n",
       "</style>\n",
       "<table border=\"1\" class=\"dataframe\">\n",
       "  <thead>\n",
       "    <tr style=\"text-align: right;\">\n",
       "      <th></th>\n",
       "      <th>byte1</th>\n",
       "      <th>byte2</th>\n",
       "      <th>byte3</th>\n",
       "      <th>byte4</th>\n",
       "      <th>byte5</th>\n",
       "      <th>classe</th>\n",
       "    </tr>\n",
       "  </thead>\n",
       "  <tbody>\n",
       "    <tr>\n",
       "      <th>0</th>\n",
       "      <td>0</td>\n",
       "      <td>1</td>\n",
       "      <td>0</td>\n",
       "      <td>1</td>\n",
       "      <td>0</td>\n",
       "      <td>c1</td>\n",
       "    </tr>\n",
       "    <tr>\n",
       "      <th>1</th>\n",
       "      <td>1</td>\n",
       "      <td>1</td>\n",
       "      <td>1</td>\n",
       "      <td>1</td>\n",
       "      <td>1</td>\n",
       "      <td>c1</td>\n",
       "    </tr>\n",
       "    <tr>\n",
       "      <th>2</th>\n",
       "      <td>1</td>\n",
       "      <td>1</td>\n",
       "      <td>0</td>\n",
       "      <td>1</td>\n",
       "      <td>0</td>\n",
       "      <td>c1</td>\n",
       "    </tr>\n",
       "    <tr>\n",
       "      <th>3</th>\n",
       "      <td>1</td>\n",
       "      <td>1</td>\n",
       "      <td>1</td>\n",
       "      <td>0</td>\n",
       "      <td>1</td>\n",
       "      <td>c1</td>\n",
       "    </tr>\n",
       "    <tr>\n",
       "      <th>4</th>\n",
       "      <td>1</td>\n",
       "      <td>0</td>\n",
       "      <td>1</td>\n",
       "      <td>0</td>\n",
       "      <td>1</td>\n",
       "      <td>c1</td>\n",
       "    </tr>\n",
       "  </tbody>\n",
       "</table>\n",
       "</div>"
      ],
      "text/plain": [
       "   byte1  byte2  byte3  byte4  byte5 classe\n",
       "0      0      1      0      1      0     c1\n",
       "1      1      1      1      1      1     c1\n",
       "2      1      1      0      1      0     c1\n",
       "3      1      1      1      0      1     c1\n",
       "4      1      0      1      0      1     c1"
      ]
     },
     "execution_count": 5,
     "metadata": {},
     "output_type": "execute_result"
    }
   ],
   "source": [
    "S1 = [[0,1,0,1,0],[1,1,1,1,1],[1,1,0,1,0],[1,1,1,0,1],[1,0,1,0,1]]\n",
    "df_c1 = pd.DataFrame(S1, columns=['byte1', 'byte2', 'byte3','byte4','byte5'])\n",
    "df_c1['classe'] = 'c1'\n",
    "df_c1.head()"
   ]
  },
  {
   "cell_type": "code",
   "execution_count": 6,
   "metadata": {},
   "outputs": [
    {
     "data": {
      "text/html": [
       "<div>\n",
       "<style scoped>\n",
       "    .dataframe tbody tr th:only-of-type {\n",
       "        vertical-align: middle;\n",
       "    }\n",
       "\n",
       "    .dataframe tbody tr th {\n",
       "        vertical-align: top;\n",
       "    }\n",
       "\n",
       "    .dataframe thead th {\n",
       "        text-align: right;\n",
       "    }\n",
       "</style>\n",
       "<table border=\"1\" class=\"dataframe\">\n",
       "  <thead>\n",
       "    <tr style=\"text-align: right;\">\n",
       "      <th></th>\n",
       "      <th>byte1</th>\n",
       "      <th>byte2</th>\n",
       "      <th>byte3</th>\n",
       "      <th>byte4</th>\n",
       "      <th>byte5</th>\n",
       "      <th>classe</th>\n",
       "    </tr>\n",
       "  </thead>\n",
       "  <tbody>\n",
       "    <tr>\n",
       "      <th>0</th>\n",
       "      <td>0</td>\n",
       "      <td>1</td>\n",
       "      <td>1</td>\n",
       "      <td>0</td>\n",
       "      <td>0</td>\n",
       "      <td>c2</td>\n",
       "    </tr>\n",
       "    <tr>\n",
       "      <th>1</th>\n",
       "      <td>1</td>\n",
       "      <td>1</td>\n",
       "      <td>0</td>\n",
       "      <td>0</td>\n",
       "      <td>1</td>\n",
       "      <td>c2</td>\n",
       "    </tr>\n",
       "    <tr>\n",
       "      <th>2</th>\n",
       "      <td>1</td>\n",
       "      <td>0</td>\n",
       "      <td>1</td>\n",
       "      <td>1</td>\n",
       "      <td>0</td>\n",
       "      <td>c2</td>\n",
       "    </tr>\n",
       "    <tr>\n",
       "      <th>3</th>\n",
       "      <td>1</td>\n",
       "      <td>0</td>\n",
       "      <td>1</td>\n",
       "      <td>0</td>\n",
       "      <td>1</td>\n",
       "      <td>c2</td>\n",
       "    </tr>\n",
       "    <tr>\n",
       "      <th>4</th>\n",
       "      <td>1</td>\n",
       "      <td>0</td>\n",
       "      <td>0</td>\n",
       "      <td>1</td>\n",
       "      <td>0</td>\n",
       "      <td>c2</td>\n",
       "    </tr>\n",
       "  </tbody>\n",
       "</table>\n",
       "</div>"
      ],
      "text/plain": [
       "   byte1  byte2  byte3  byte4  byte5 classe\n",
       "0      0      1      1      0      0     c2\n",
       "1      1      1      0      0      1     c2\n",
       "2      1      0      1      1      0     c2\n",
       "3      1      0      1      0      1     c2\n",
       "4      1      0      0      1      0     c2"
      ]
     },
     "execution_count": 6,
     "metadata": {},
     "output_type": "execute_result"
    }
   ],
   "source": [
    "S2 = [[0,1,1,0,0],[1,1,0,0,1],[1,0,1,1,0],[1,0,1,0,1],[1,0,0,1,0]]\n",
    "df_c2 = pd.DataFrame(S2, columns=['byte1', 'byte2', 'byte3','byte4','byte5'])\n",
    "df_c2['classe'] = 'c2'\n",
    "df_c2.head()"
   ]
  },
  {
   "cell_type": "code",
   "execution_count": 7,
   "metadata": {},
   "outputs": [
    {
     "data": {
      "text/html": [
       "<div>\n",
       "<style scoped>\n",
       "    .dataframe tbody tr th:only-of-type {\n",
       "        vertical-align: middle;\n",
       "    }\n",
       "\n",
       "    .dataframe tbody tr th {\n",
       "        vertical-align: top;\n",
       "    }\n",
       "\n",
       "    .dataframe thead th {\n",
       "        text-align: right;\n",
       "    }\n",
       "</style>\n",
       "<table border=\"1\" class=\"dataframe\">\n",
       "  <thead>\n",
       "    <tr style=\"text-align: right;\">\n",
       "      <th></th>\n",
       "      <th>byte1</th>\n",
       "      <th>byte2</th>\n",
       "      <th>byte3</th>\n",
       "      <th>byte4</th>\n",
       "      <th>byte5</th>\n",
       "      <th>classe</th>\n",
       "    </tr>\n",
       "  </thead>\n",
       "  <tbody>\n",
       "    <tr>\n",
       "      <th>0</th>\n",
       "      <td>0</td>\n",
       "      <td>1</td>\n",
       "      <td>0</td>\n",
       "      <td>1</td>\n",
       "      <td>0</td>\n",
       "      <td>c1</td>\n",
       "    </tr>\n",
       "    <tr>\n",
       "      <th>1</th>\n",
       "      <td>1</td>\n",
       "      <td>1</td>\n",
       "      <td>1</td>\n",
       "      <td>1</td>\n",
       "      <td>1</td>\n",
       "      <td>c1</td>\n",
       "    </tr>\n",
       "    <tr>\n",
       "      <th>2</th>\n",
       "      <td>1</td>\n",
       "      <td>1</td>\n",
       "      <td>0</td>\n",
       "      <td>1</td>\n",
       "      <td>0</td>\n",
       "      <td>c1</td>\n",
       "    </tr>\n",
       "    <tr>\n",
       "      <th>3</th>\n",
       "      <td>1</td>\n",
       "      <td>1</td>\n",
       "      <td>1</td>\n",
       "      <td>0</td>\n",
       "      <td>1</td>\n",
       "      <td>c1</td>\n",
       "    </tr>\n",
       "    <tr>\n",
       "      <th>4</th>\n",
       "      <td>1</td>\n",
       "      <td>0</td>\n",
       "      <td>1</td>\n",
       "      <td>0</td>\n",
       "      <td>1</td>\n",
       "      <td>c1</td>\n",
       "    </tr>\n",
       "    <tr>\n",
       "      <th>0</th>\n",
       "      <td>0</td>\n",
       "      <td>1</td>\n",
       "      <td>1</td>\n",
       "      <td>0</td>\n",
       "      <td>0</td>\n",
       "      <td>c2</td>\n",
       "    </tr>\n",
       "    <tr>\n",
       "      <th>1</th>\n",
       "      <td>1</td>\n",
       "      <td>1</td>\n",
       "      <td>0</td>\n",
       "      <td>0</td>\n",
       "      <td>1</td>\n",
       "      <td>c2</td>\n",
       "    </tr>\n",
       "    <tr>\n",
       "      <th>2</th>\n",
       "      <td>1</td>\n",
       "      <td>0</td>\n",
       "      <td>1</td>\n",
       "      <td>1</td>\n",
       "      <td>0</td>\n",
       "      <td>c2</td>\n",
       "    </tr>\n",
       "    <tr>\n",
       "      <th>3</th>\n",
       "      <td>1</td>\n",
       "      <td>0</td>\n",
       "      <td>1</td>\n",
       "      <td>0</td>\n",
       "      <td>1</td>\n",
       "      <td>c2</td>\n",
       "    </tr>\n",
       "    <tr>\n",
       "      <th>4</th>\n",
       "      <td>1</td>\n",
       "      <td>0</td>\n",
       "      <td>0</td>\n",
       "      <td>1</td>\n",
       "      <td>0</td>\n",
       "      <td>c2</td>\n",
       "    </tr>\n",
       "  </tbody>\n",
       "</table>\n",
       "</div>"
      ],
      "text/plain": [
       "   byte1  byte2  byte3  byte4  byte5 classe\n",
       "0      0      1      0      1      0     c1\n",
       "1      1      1      1      1      1     c1\n",
       "2      1      1      0      1      0     c1\n",
       "3      1      1      1      0      1     c1\n",
       "4      1      0      1      0      1     c1\n",
       "0      0      1      1      0      0     c2\n",
       "1      1      1      0      0      1     c2\n",
       "2      1      0      1      1      0     c2\n",
       "3      1      0      1      0      1     c2\n",
       "4      1      0      0      1      0     c2"
      ]
     },
     "execution_count": 7,
     "metadata": {},
     "output_type": "execute_result"
    }
   ],
   "source": [
    "df = pd.concat([df_c1,df_c2])\n",
    "df.head(10)"
   ]
  },
  {
   "cell_type": "code",
   "execution_count": 8,
   "metadata": {},
   "outputs": [
    {
     "data": {
      "text/plain": [
       "(0.00432, 0.00576)"
      ]
     },
     "execution_count": 8,
     "metadata": {},
     "output_type": "execute_result"
    }
   ],
   "source": [
    "probability(df,[0,0,1,1,1])"
   ]
  },
  {
   "cell_type": "markdown",
   "metadata": {},
   "source": [
    "### <font color='red'>4 - Exercice 3 : Classification du texte</font> ###"
   ]
  },
  {
   "cell_type": "markdown",
   "metadata": {},
   "source": [
    "**Objectif : Classifier des phrases selon leur thème : la radio ou la télévision**\n",
    "Échantillon :\n",
    "<li>Classe télévision :</li>\n",
    "- Le programme TV n’est pas intéressant.\n",
    "- La TV m’ennuie.\n",
    "- Les enfants aiment la TV.\n",
    "- On reçoit la TV par onde radio.\n",
    "<li>Classe radio :</li>\n",
    "- Il est intéressant d’écouter la radio.\n",
    "- Sur les ondes, les programmes pour enfants sont rares.\n",
    "- Les enfants vont écouter la radio; c’est rare.\n",
    "<li>Vocabulaire : </li>\n",
    "- V = {TV, programme, intéressant, enfants, radio, onde, écouter, rare}\n",
    "<br>En utilisant un classifieur de Bayes, à quel thème serait associée la phrase :\n",
    "<br>\n",
    "<b>« J’ai vu la radio de mes poumons à la TV »</b>"
   ]
  },
  {
   "cell_type": "code",
   "execution_count": 4,
   "metadata": {
    "pycharm": {
     "name": "#%%\n"
    }
   },
   "outputs": [
    {
     "data": {
      "text/html": [
       "<div>\n",
       "<style scoped>\n",
       "    .dataframe tbody tr th:only-of-type {\n",
       "        vertical-align: middle;\n",
       "    }\n",
       "\n",
       "    .dataframe tbody tr th {\n",
       "        vertical-align: top;\n",
       "    }\n",
       "\n",
       "    .dataframe thead th {\n",
       "        text-align: right;\n",
       "    }\n",
       "</style>\n",
       "<table border=\"1\" class=\"dataframe\">\n",
       "  <thead>\n",
       "    <tr style=\"text-align: right;\">\n",
       "      <th></th>\n",
       "      <th>phrase</th>\n",
       "      <th>classe</th>\n",
       "    </tr>\n",
       "  </thead>\n",
       "  <tbody>\n",
       "    <tr>\n",
       "      <th>0</th>\n",
       "      <td>Le programme TV n’est pas intéressant</td>\n",
       "      <td>TV</td>\n",
       "    </tr>\n",
       "    <tr>\n",
       "      <th>1</th>\n",
       "      <td>La TV m’ennuie</td>\n",
       "      <td>TV</td>\n",
       "    </tr>\n",
       "    <tr>\n",
       "      <th>2</th>\n",
       "      <td>Les enfants aiment la TV</td>\n",
       "      <td>TV</td>\n",
       "    </tr>\n",
       "    <tr>\n",
       "      <th>3</th>\n",
       "      <td>On reçoit la TV par onde radio</td>\n",
       "      <td>TV</td>\n",
       "    </tr>\n",
       "    <tr>\n",
       "      <th>4</th>\n",
       "      <td>Il est intéressant d’écouter la radio</td>\n",
       "      <td>radio</td>\n",
       "    </tr>\n",
       "  </tbody>\n",
       "</table>\n",
       "</div>"
      ],
      "text/plain": [
       "                                  phrase classe\n",
       "0  Le programme TV n’est pas intéressant     TV\n",
       "1                         La TV m’ennuie     TV\n",
       "2               Les enfants aiment la TV     TV\n",
       "3         On reçoit la TV par onde radio     TV\n",
       "4  Il est intéressant d’écouter la radio  radio"
      ]
     },
     "execution_count": 4,
     "metadata": {},
     "output_type": "execute_result"
    }
   ],
   "source": [
    "data = [\n",
    "    ['Le programme TV n’est pas intéressant','TV'],['La TV m’ennuie','TV'],['Les enfants aiment la TV','TV'],\n",
    "    ['On reçoit la TV par onde radio','TV'],['Il est intéressant d’écouter la radio','radio'],['Sur les ondes','radio'],\n",
    "    ['les programmes pour enfants sont rares','radio'],['Les enfants vont écouter la radio','radio']\n",
    "       ]\n",
    "df_ex3 = pd.DataFrame(data,columns=['phrase','classe'])\n",
    "df_ex3.head()"
   ]
  },
  {
   "cell_type": "markdown",
   "metadata": {},
   "source": [
    "<br>P(TV/phrase) = P(phrase/TV) * P(TV) * 1/P(phrase)\n",
    "<br>P(radio/phrase) = P(phrase/radio) * P(radio) * 1/P(phrase)"
   ]
  },
  {
   "cell_type": "code",
   "execution_count": 5,
   "metadata": {},
   "outputs": [
    {
     "data": {
      "text/html": [
       "<div>\n",
       "<style scoped>\n",
       "    .dataframe tbody tr th:only-of-type {\n",
       "        vertical-align: middle;\n",
       "    }\n",
       "\n",
       "    .dataframe tbody tr th {\n",
       "        vertical-align: top;\n",
       "    }\n",
       "\n",
       "    .dataframe thead th {\n",
       "        text-align: right;\n",
       "    }\n",
       "</style>\n",
       "<table border=\"1\" class=\"dataframe\">\n",
       "  <thead>\n",
       "    <tr style=\"text-align: right;\">\n",
       "      <th></th>\n",
       "      <th>phrase</th>\n",
       "      <th>classe</th>\n",
       "    </tr>\n",
       "  </thead>\n",
       "  <tbody>\n",
       "    <tr>\n",
       "      <th>0</th>\n",
       "      <td>le programme tv n’est pas intéressant</td>\n",
       "      <td>TV</td>\n",
       "    </tr>\n",
       "    <tr>\n",
       "      <th>1</th>\n",
       "      <td>la tv m’ennuie</td>\n",
       "      <td>TV</td>\n",
       "    </tr>\n",
       "    <tr>\n",
       "      <th>2</th>\n",
       "      <td>les enfants aiment la tv</td>\n",
       "      <td>TV</td>\n",
       "    </tr>\n",
       "    <tr>\n",
       "      <th>3</th>\n",
       "      <td>on reçoit la tv par onde radio</td>\n",
       "      <td>TV</td>\n",
       "    </tr>\n",
       "    <tr>\n",
       "      <th>4</th>\n",
       "      <td>il est intéressant d’écouter la radio</td>\n",
       "      <td>radio</td>\n",
       "    </tr>\n",
       "  </tbody>\n",
       "</table>\n",
       "</div>"
      ],
      "text/plain": [
       "                                  phrase classe\n",
       "0  le programme tv n’est pas intéressant     TV\n",
       "1                         la tv m’ennuie     TV\n",
       "2               les enfants aiment la tv     TV\n",
       "3         on reçoit la tv par onde radio     TV\n",
       "4  il est intéressant d’écouter la radio  radio"
      ]
     },
     "execution_count": 5,
     "metadata": {},
     "output_type": "execute_result"
    }
   ],
   "source": [
    "df_ex3['phrase'] = [x.lower() for x in df_ex3['phrase']]\n",
    "df_ex3.head()"
   ]
  },
  {
   "cell_type": "code",
   "execution_count": 6,
   "metadata": {},
   "outputs": [],
   "source": [
    "tv = df_ex3['classe']== 'TV'\n",
    "radio = df_ex3['classe']== 'radio'"
   ]
  },
  {
   "cell_type": "code",
   "execution_count": 7,
   "metadata": {},
   "outputs": [],
   "source": [
    "p_tv = tv.sum()/len(df_ex3)\n",
    "p_radio = radio.sum()/len(df_ex3)"
   ]
  },
  {
   "cell_type": "code",
   "execution_count": 8,
   "metadata": {},
   "outputs": [
    {
     "data": {
      "text/plain": [
       "['j’ai', 'vu', 'la', 'radio', 'de', 'mes', 'poumons', 'à', 'la', 'tv']"
      ]
     },
     "execution_count": 8,
     "metadata": {},
     "output_type": "execute_result"
    }
   ],
   "source": [
    "phrase = 'J’ai vu la radio de mes poumons à la TV'.lower()\n",
    "words = phrase.split()\n",
    "words"
   ]
  },
  {
   "cell_type": "code",
   "execution_count": 9,
   "metadata": {},
   "outputs": [
    {
     "data": {
      "text/plain": [
       "['tv',\n",
       " 'programme',\n",
       " 'intéressant',\n",
       " 'enfants',\n",
       " 'radio',\n",
       " 'onde',\n",
       " 'écouter',\n",
       " 'rare']"
      ]
     },
     "execution_count": 9,
     "metadata": {},
     "output_type": "execute_result"
    }
   ],
   "source": [
    "vocabulaire = ['TV', 'programme', 'intéressant', 'enfants', 'radio', 'onde', 'écouter', 'rare']\n",
    "vocabulaire = [x.lower() for x in vocabulaire]\n",
    "vocabulaire"
   ]
  },
  {
   "cell_type": "code",
   "execution_count": 10,
   "metadata": {},
   "outputs": [
    {
     "data": {
      "text/plain": [
       "['radio', 'tv']"
      ]
     },
     "execution_count": 10,
     "metadata": {},
     "output_type": "execute_result"
    }
   ],
   "source": [
    "words = [x for x in words if x in vocabulaire]\n",
    "words"
   ]
  },
  {
   "cell_type": "code",
   "execution_count": 11,
   "metadata": {},
   "outputs": [
    {
     "name": "stdout",
     "output_type": "stream",
     "text": [
      "classe TV\n"
     ]
    },
    {
     "data": {
      "text/plain": [
       "[('radio',\n",
       "  0    0\n",
       "  1    0\n",
       "  2    0\n",
       "  3    1\n",
       "  Name: phrase, dtype: int64),\n",
       " ('tv',\n",
       "  0    1\n",
       "  1    1\n",
       "  2    1\n",
       "  3    1\n",
       "  Name: phrase, dtype: int64)]"
      ]
     },
     "execution_count": 11,
     "metadata": {},
     "output_type": "execute_result"
    }
   ],
   "source": [
    "print('classe TV')\n",
    "[(w,df_ex3[tv].phrase.str.count(w)) for w in words]"
   ]
  },
  {
   "cell_type": "code",
   "execution_count": 12,
   "metadata": {},
   "outputs": [
    {
     "name": "stdout",
     "output_type": "stream",
     "text": [
      "classe radio\n"
     ]
    },
    {
     "data": {
      "text/plain": [
       "[('radio',\n",
       "  4    1\n",
       "  5    0\n",
       "  6    0\n",
       "  7    1\n",
       "  Name: phrase, dtype: int64),\n",
       " ('tv',\n",
       "  4    0\n",
       "  5    0\n",
       "  6    0\n",
       "  7    0\n",
       "  Name: phrase, dtype: int64)]"
      ]
     },
     "execution_count": 12,
     "metadata": {},
     "output_type": "execute_result"
    }
   ],
   "source": [
    "print('classe radio')\n",
    "[(w,df_ex3[radio].phrase.str.count(w)) for w in words]"
   ]
  },
  {
   "cell_type": "code",
   "execution_count": 15,
   "metadata": {},
   "outputs": [],
   "source": [
    "words_count_tv = [df_ex3[tv].phrase.str.count(w).sum() for w in words]\n",
    "words_count_radio = [df_ex3[radio].phrase.str.count(w).sum() for w in words]"
   ]
  },
  {
   "cell_type": "code",
   "execution_count": 16,
   "metadata": {},
   "outputs": [
    {
     "data": {
      "text/plain": [
       "[1, 4]"
      ]
     },
     "execution_count": 16,
     "metadata": {},
     "output_type": "execute_result"
    }
   ],
   "source": [
    "words_count_tv"
   ]
  },
  {
   "cell_type": "code",
   "execution_count": 17,
   "metadata": {},
   "outputs": [
    {
     "data": {
      "text/plain": [
       "[2, 0]"
      ]
     },
     "execution_count": 17,
     "metadata": {},
     "output_type": "execute_result"
    }
   ],
   "source": [
    "words_count_radio"
   ]
  },
  {
   "cell_type": "code",
   "execution_count": 18,
   "metadata": {},
   "outputs": [],
   "source": [
    "proba_words_tv = words_count_tv/tv.sum()\n",
    "proba_words_radio = words_count_radio/radio.sum()"
   ]
  },
  {
   "cell_type": "code",
   "execution_count": 19,
   "metadata": {},
   "outputs": [
    {
     "data": {
      "text/plain": [
       "array([0.25, 1.  ])"
      ]
     },
     "execution_count": 19,
     "metadata": {},
     "output_type": "execute_result"
    }
   ],
   "source": [
    "proba_words_tv"
   ]
  },
  {
   "cell_type": "code",
   "execution_count": 20,
   "metadata": {},
   "outputs": [
    {
     "data": {
      "text/plain": [
       "0.125"
      ]
     },
     "execution_count": 20,
     "metadata": {},
     "output_type": "execute_result"
    }
   ],
   "source": [
    "is_tv = p_tv * np.prod(proba_words_tv)\n",
    "is_tv"
   ]
  },
  {
   "cell_type": "code",
   "execution_count": 23,
   "metadata": {},
   "outputs": [
    {
     "data": {
      "text/plain": [
       "array([0.5, 0. ])"
      ]
     },
     "execution_count": 23,
     "metadata": {},
     "output_type": "execute_result"
    }
   ],
   "source": [
    "proba_words_radio"
   ]
  },
  {
   "cell_type": "code",
   "execution_count": 123,
   "metadata": {},
   "outputs": [
    {
     "data": {
      "text/plain": [
       "0.0"
      ]
     },
     "execution_count": 123,
     "metadata": {},
     "output_type": "execute_result"
    }
   ],
   "source": [
    "is_radio = p_radio * np.prod(proba_words_radio)\n",
    "is_radio"
   ]
  },
  {
   "cell_type": "markdown",
   "metadata": {},
   "source": [
    "**« J’ai vu la radio de mes poumons à la TV » est une phrase dans la classe <font color='red'>TV</font>**"
   ]
  },
  {
   "cell_type": "markdown",
   "metadata": {},
   "source": [
    "### <font color='red'>5 - Exercice 4 : NB by using sklearn</font> ###"
   ]
  },
  {
   "cell_type": "markdown",
   "metadata": {},
   "source": [
    "Utiliser le dataset iris.csv\n",
    "Ouvrir le fichier NB_iris.ipynb se trouvant dans googleclassroom\n",
    "1. Analyser les différents algorithmes"
   ]
  },
  {
   "cell_type": "code",
   "execution_count": 24,
   "metadata": {},
   "outputs": [
    {
     "data": {
      "text/html": [
       "<div>\n",
       "<style scoped>\n",
       "    .dataframe tbody tr th:only-of-type {\n",
       "        vertical-align: middle;\n",
       "    }\n",
       "\n",
       "    .dataframe tbody tr th {\n",
       "        vertical-align: top;\n",
       "    }\n",
       "\n",
       "    .dataframe thead th {\n",
       "        text-align: right;\n",
       "    }\n",
       "</style>\n",
       "<table border=\"1\" class=\"dataframe\">\n",
       "  <thead>\n",
       "    <tr style=\"text-align: right;\">\n",
       "      <th></th>\n",
       "      <th>SepalLengthCm</th>\n",
       "      <th>SepalWidthCm</th>\n",
       "      <th>PetalLengthCm</th>\n",
       "      <th>PetalWidthCm</th>\n",
       "      <th>Species</th>\n",
       "    </tr>\n",
       "  </thead>\n",
       "  <tbody>\n",
       "    <tr>\n",
       "      <th>0</th>\n",
       "      <td>5.1</td>\n",
       "      <td>3.5</td>\n",
       "      <td>1.4</td>\n",
       "      <td>0.2</td>\n",
       "      <td>Iris-setosa</td>\n",
       "    </tr>\n",
       "    <tr>\n",
       "      <th>1</th>\n",
       "      <td>4.9</td>\n",
       "      <td>3.0</td>\n",
       "      <td>1.4</td>\n",
       "      <td>0.2</td>\n",
       "      <td>Iris-setosa</td>\n",
       "    </tr>\n",
       "    <tr>\n",
       "      <th>2</th>\n",
       "      <td>4.7</td>\n",
       "      <td>3.2</td>\n",
       "      <td>1.3</td>\n",
       "      <td>0.2</td>\n",
       "      <td>Iris-setosa</td>\n",
       "    </tr>\n",
       "    <tr>\n",
       "      <th>3</th>\n",
       "      <td>4.6</td>\n",
       "      <td>3.1</td>\n",
       "      <td>1.5</td>\n",
       "      <td>0.2</td>\n",
       "      <td>Iris-setosa</td>\n",
       "    </tr>\n",
       "    <tr>\n",
       "      <th>4</th>\n",
       "      <td>5.0</td>\n",
       "      <td>3.6</td>\n",
       "      <td>1.4</td>\n",
       "      <td>0.2</td>\n",
       "      <td>Iris-setosa</td>\n",
       "    </tr>\n",
       "  </tbody>\n",
       "</table>\n",
       "</div>"
      ],
      "text/plain": [
       "   SepalLengthCm  SepalWidthCm  PetalLengthCm  PetalWidthCm      Species\n",
       "0            5.1           3.5            1.4           0.2  Iris-setosa\n",
       "1            4.9           3.0            1.4           0.2  Iris-setosa\n",
       "2            4.7           3.2            1.3           0.2  Iris-setosa\n",
       "3            4.6           3.1            1.5           0.2  Iris-setosa\n",
       "4            5.0           3.6            1.4           0.2  Iris-setosa"
      ]
     },
     "execution_count": 24,
     "metadata": {},
     "output_type": "execute_result"
    }
   ],
   "source": [
    "df_ex4 = pd.read_csv(\"Iris.csv\")\n",
    "df_ex4.drop('Id',axis=1,inplace=True)\n",
    "df_ex4.head()"
   ]
  },
  {
   "cell_type": "code",
   "execution_count": 25,
   "metadata": {},
   "outputs": [],
   "source": [
    "X=df_ex4.iloc[:,0:4]\n",
    "y=df_ex4.iloc[:,4]"
   ]
  },
  {
   "cell_type": "code",
   "execution_count": 29,
   "metadata": {},
   "outputs": [],
   "source": [
    "X_train,X_test,y_train,y_test=train_test_split(X,y,test_size=.33,random_state=17)"
   ]
  },
  {
   "cell_type": "code",
   "execution_count": 26,
   "metadata": {},
   "outputs": [],
   "source": [
    "def Model(model, X_train, y_train, X_test, y_test):\n",
    "    model.fit(X_train, y_train)\n",
    "    print(model)\n",
    "    y_pred = model.predict(X_test)\n",
    "    print ('Accuracy : ',accuracy_score(y_test,y_pred))"
   ]
  },
  {
   "cell_type": "code",
   "execution_count": 30,
   "metadata": {},
   "outputs": [
    {
     "name": "stdout",
     "output_type": "stream",
     "text": [
      "BernoulliNB(binarize=True)\n",
      "Accuracy :  0.56\n"
     ]
    }
   ],
   "source": [
    "Model(BernoulliNB(binarize=True),X_train, y_train, X_test, y_test)"
   ]
  },
  {
   "cell_type": "code",
   "execution_count": 31,
   "metadata": {},
   "outputs": [
    {
     "name": "stdout",
     "output_type": "stream",
     "text": [
      "BernoulliNB(binarize=0.1)\n",
      "Accuracy :  0.36\n"
     ]
    }
   ],
   "source": [
    "Model(BernoulliNB(binarize=0.1),X_train, y_train, X_test, y_test)"
   ]
  },
  {
   "cell_type": "code",
   "execution_count": 32,
   "metadata": {},
   "outputs": [
    {
     "name": "stdout",
     "output_type": "stream",
     "text": [
      "MultinomialNB()\n",
      "Accuracy :  0.56\n"
     ]
    }
   ],
   "source": [
    "Model(MultinomialNB(),X_train, y_train, X_test, y_test)"
   ]
  },
  {
   "cell_type": "code",
   "execution_count": 33,
   "metadata": {},
   "outputs": [
    {
     "name": "stdout",
     "output_type": "stream",
     "text": [
      "GaussianNB()\n",
      "Accuracy :  0.96\n"
     ]
    }
   ],
   "source": [
    "Model(GaussianNB(),X_train, y_train, X_test, y_test)"
   ]
  },
  {
   "cell_type": "markdown",
   "metadata": {},
   "source": [
    "**2 - Quelles sont les conclusions à faire**<br>\n",
    "\n",
    "Gaussian Naive bayes est le meilleure pour ce cas car notre dataset est \"continuous data\""
   ]
  },
  {
   "cell_type": "markdown",
   "metadata": {},
   "source": [
    "**3 - Comparer le résultat obtenu avec KNN (avec le meilleur k)**<br>\n",
    "\n",
    "Les résultat obtenu avec KNN est plus mieux que les resultat avec Naive Bayes \n",
    "<li><b>accuracy avec KNN</b> : accuracy = 1</li> \n",
    "<li><b>accuracy avec Naive Bayes</b> : accuracy = 0.96</li>"
   ]
  },
  {
   "cell_type": "markdown",
   "metadata": {},
   "source": [
    "### <font color='red'>6 - Exercice 5 :  NB from scratch</font> ###"
   ]
  },
  {
   "cell_type": "markdown",
   "metadata": {},
   "source": [
    "<p>Voir les code sources fourni dans le fichier functions.pdf<br>\n",
    "Soit le dataset suivant qui représente une partie de la base de données iris. Cette base de données présente trois types de fleurs selon leurs caractéristiques (voir tableau).<br>\n",
    "Le dernier exemple (x) est un exemple à classer à l’aide de knn.</p>"
   ]
  },
  {
   "cell_type": "markdown",
   "metadata": {},
   "source": [
    "**1 - Selon le dataset ci-dessus, quel est le classifieur Naive Bayes le plus adéquat à utiliser**<br>\n",
    "Gaussian Naive bayes est le meilleure pour ce cas car notre dataset est \"continuous data\""
   ]
  },
  {
   "cell_type": "markdown",
   "metadata": {},
   "source": [
    "**2 - Quelles sont les étapes à suivre pour classer x ? quelles sont les formules à utiliser au sein de chaque étape**<br>\n",
    "<li>Calculer les deux probabilités : </li>\n",
    "P(c1/x) = P(x/c1) * P(c1) * 1/P(x)\n",
    "<br>P(c2/x) = P(x/c2) * P(c2) * 1/P(x)\n",
    "<br>\n",
    "<li>On choisir la classe qui a la plus grande valuer</li>"
   ]
  },
  {
   "cell_type": "markdown",
   "metadata": {},
   "source": [
    "**3 - Implémenter les fonctions nécessaires qui prennent en compte les formules définies en 2**"
   ]
  },
  {
   "cell_type": "code",
   "execution_count": 191,
   "metadata": {},
   "outputs": [],
   "source": [
    "def probability(dataset, x, classe):\n",
    "    con = (dataset['Species'] == classe)\n",
    "    data = dataset[con]\n",
    "    probas = []\n",
    "    for i,val in enumerate(x):\n",
    "        mean = data.iloc[:,i].mean()\n",
    "        var = data.iloc[:,i].var()\n",
    "        proba = (1/math.sqrt(2*math.pi*var))*(np.exp(-1/2*np.power(val-mean,2)/var))\n",
    "        probas.append(proba)\n",
    "    return probas"
   ]
  },
  {
   "cell_type": "markdown",
   "metadata": {},
   "source": [
    "**4 -  En utilisant votre code source**"
   ]
  },
  {
   "cell_type": "code",
   "execution_count": 193,
   "metadata": {},
   "outputs": [
    {
     "data": {
      "text/html": [
       "<div>\n",
       "<style scoped>\n",
       "    .dataframe tbody tr th:only-of-type {\n",
       "        vertical-align: middle;\n",
       "    }\n",
       "\n",
       "    .dataframe tbody tr th {\n",
       "        vertical-align: top;\n",
       "    }\n",
       "\n",
       "    .dataframe thead th {\n",
       "        text-align: right;\n",
       "    }\n",
       "</style>\n",
       "<table border=\"1\" class=\"dataframe\">\n",
       "  <thead>\n",
       "    <tr style=\"text-align: right;\">\n",
       "      <th></th>\n",
       "      <th>SepalLengthCm</th>\n",
       "      <th>SepalWidthCm</th>\n",
       "      <th>PetalLengthCm</th>\n",
       "      <th>PetalWidthCm</th>\n",
       "      <th>Species</th>\n",
       "    </tr>\n",
       "  </thead>\n",
       "  <tbody>\n",
       "    <tr>\n",
       "      <th>0</th>\n",
       "      <td>5.1</td>\n",
       "      <td>3.5</td>\n",
       "      <td>1.4</td>\n",
       "      <td>0.2</td>\n",
       "      <td>Iris-setosa</td>\n",
       "    </tr>\n",
       "    <tr>\n",
       "      <th>1</th>\n",
       "      <td>4.9</td>\n",
       "      <td>3.0</td>\n",
       "      <td>1.4</td>\n",
       "      <td>0.2</td>\n",
       "      <td>Iris-setosa</td>\n",
       "    </tr>\n",
       "    <tr>\n",
       "      <th>2</th>\n",
       "      <td>4.7</td>\n",
       "      <td>3.2</td>\n",
       "      <td>1.3</td>\n",
       "      <td>0.2</td>\n",
       "      <td>Iris-setosa</td>\n",
       "    </tr>\n",
       "    <tr>\n",
       "      <th>3</th>\n",
       "      <td>4.6</td>\n",
       "      <td>3.1</td>\n",
       "      <td>1.5</td>\n",
       "      <td>0.2</td>\n",
       "      <td>Iris-setosa</td>\n",
       "    </tr>\n",
       "    <tr>\n",
       "      <th>4</th>\n",
       "      <td>5.0</td>\n",
       "      <td>3.6</td>\n",
       "      <td>1.4</td>\n",
       "      <td>0.2</td>\n",
       "      <td>Iris-setosa</td>\n",
       "    </tr>\n",
       "  </tbody>\n",
       "</table>\n",
       "</div>"
      ],
      "text/plain": [
       "   SepalLengthCm  SepalWidthCm  PetalLengthCm  PetalWidthCm      Species\n",
       "0            5.1           3.5            1.4           0.2  Iris-setosa\n",
       "1            4.9           3.0            1.4           0.2  Iris-setosa\n",
       "2            4.7           3.2            1.3           0.2  Iris-setosa\n",
       "3            4.6           3.1            1.5           0.2  Iris-setosa\n",
       "4            5.0           3.6            1.4           0.2  Iris-setosa"
      ]
     },
     "execution_count": 193,
     "metadata": {},
     "output_type": "execute_result"
    }
   ],
   "source": [
    "df_ex6.head()"
   ]
  },
  {
   "cell_type": "markdown",
   "metadata": {},
   "source": [
    "<li><b>Calculer la probabilité de chaque classe</b></li>"
   ]
  },
  {
   "cell_type": "markdown",
   "metadata": {},
   "source": [
    "<font color='red'><b>Iris-setosa<b></font>"
   ]
  },
  {
   "cell_type": "code",
   "execution_count": 194,
   "metadata": {},
   "outputs": [
    {
     "data": {
      "text/plain": [
       "0.3333333333333333"
      ]
     },
     "execution_count": 194,
     "metadata": {},
     "output_type": "execute_result"
    }
   ],
   "source": [
    "proba_setosa = (df_ex6['Species'] == 'Iris-setosa').sum()/len(df_ex6)\n",
    "proba_setosa"
   ]
  },
  {
   "cell_type": "markdown",
   "metadata": {},
   "source": [
    "<font color='red'><b>Iris-versicolor<b></font>"
   ]
  },
  {
   "cell_type": "code",
   "execution_count": 195,
   "metadata": {},
   "outputs": [
    {
     "data": {
      "text/plain": [
       "0.3333333333333333"
      ]
     },
     "execution_count": 195,
     "metadata": {},
     "output_type": "execute_result"
    }
   ],
   "source": [
    "proba_versicolor = (df_ex6['Species'] == 'Iris-versicolor').sum()/len(df_ex6)\n",
    "proba_versicolor"
   ]
  },
  {
   "cell_type": "markdown",
   "metadata": {},
   "source": [
    "<font color='red'><b>Iris-virginica<b></font>"
   ]
  },
  {
   "cell_type": "code",
   "execution_count": 196,
   "metadata": {},
   "outputs": [
    {
     "data": {
      "text/plain": [
       "0.3333333333333333"
      ]
     },
     "execution_count": 196,
     "metadata": {},
     "output_type": "execute_result"
    }
   ],
   "source": [
    "proba_virginica = (df_ex6['Species'] == 'Iris-virginica').sum()/len(df_ex6)\n",
    "proba_virginica"
   ]
  },
  {
   "cell_type": "markdown",
   "metadata": {},
   "source": [
    "<li><b>Calculer les moyennes et variances</b></li>"
   ]
  },
  {
   "cell_type": "markdown",
   "metadata": {},
   "source": [
    "<font color='red'><b>Moyennes<b></font>"
   ]
  },
  {
   "cell_type": "code",
   "execution_count": 197,
   "metadata": {},
   "outputs": [
    {
     "data": {
      "text/plain": [
       "SepalLengthCm    5.843333\n",
       "SepalWidthCm     3.054000\n",
       "PetalLengthCm    3.758667\n",
       "PetalWidthCm     1.198667\n",
       "dtype: float64"
      ]
     },
     "execution_count": 197,
     "metadata": {},
     "output_type": "execute_result"
    }
   ],
   "source": [
    "df_ex6.mean()"
   ]
  },
  {
   "cell_type": "markdown",
   "metadata": {},
   "source": [
    "<font color='red'><b>Variances<b></font>"
   ]
  },
  {
   "cell_type": "code",
   "execution_count": 198,
   "metadata": {},
   "outputs": [
    {
     "data": {
      "text/plain": [
       "SepalLengthCm    0.685694\n",
       "SepalWidthCm     0.188004\n",
       "PetalLengthCm    3.113179\n",
       "PetalWidthCm     0.582414\n",
       "dtype: float64"
      ]
     },
     "execution_count": 198,
     "metadata": {},
     "output_type": "execute_result"
    }
   ],
   "source": [
    "df_ex6.var()"
   ]
  },
  {
   "cell_type": "markdown",
   "metadata": {},
   "source": [
    "<li><b>Calculer P( x | classe) sachant que classe={ Iris-setosa , Iris-versicolor, Iris-virginica }</b></li>"
   ]
  },
  {
   "cell_type": "markdown",
   "metadata": {},
   "source": [
    "<font color='green'>** La probabilité s'écrit comme suit</font>\n",
    "<li>Pr(SepalLengthCm)</li>\n",
    "<li>Pr(SepalWidthCm)</li>\n",
    "<li>Pr(PetalLengthCm)</li>\n",
    "<li>Pr(PetalWidthCm)</li>"
   ]
  },
  {
   "cell_type": "markdown",
   "metadata": {},
   "source": [
    "<font color='red'><b>Iris-setosa<b></font>"
   ]
  },
  {
   "cell_type": "code",
   "execution_count": 199,
   "metadata": {},
   "outputs": [
    {
     "data": {
      "text/plain": [
       "[1.0817495855560573,\n",
       " 0.5736143870495223,\n",
       " 1.6122626032157304e-85,\n",
       " 3.099230350468631e-65]"
      ]
     },
     "execution_count": 199,
     "metadata": {},
     "output_type": "execute_result"
    }
   ],
   "source": [
    "probability(df_ex6,[4.9,3.0,4.9,2.1],'Iris-setosa')"
   ]
  },
  {
   "cell_type": "markdown",
   "metadata": {},
   "source": [
    "<font color='red'><b>Iris-versicolor<b></font>"
   ]
  },
  {
   "cell_type": "code",
   "execution_count": 202,
   "metadata": {},
   "outputs": [
    {
     "data": {
      "text/plain": [
       "[0.1031244047781986,\n",
       " 0.9718584132539115,\n",
       " 0.3358152325641716,\n",
       " 0.0009511683841995659]"
      ]
     },
     "execution_count": 202,
     "metadata": {},
     "output_type": "execute_result"
    }
   ],
   "source": [
    "probability(df_ex6,[4.9,3.0,4.9,2.1],'Iris-versicolor')"
   ]
  },
  {
   "cell_type": "markdown",
   "metadata": {},
   "source": [
    "<font color='red'><b>Iris-virginica<b></font>"
   ]
  },
  {
   "cell_type": "code",
   "execution_count": 203,
   "metadata": {},
   "outputs": [
    {
     "data": {
      "text/plain": [
       "[0.018506779675120297,\n",
       " 1.2330295149586663,\n",
       " 0.3597393539944261,\n",
       " 1.4007694672920687]"
      ]
     },
     "execution_count": 203,
     "metadata": {},
     "output_type": "execute_result"
    }
   ],
   "source": [
    "probability(df_ex6,[4.9,3.0,4.9,2.1],'Iris-virginica')"
   ]
  },
  {
   "cell_type": "markdown",
   "metadata": {},
   "source": [
    "**Calculer la probabilité (classe | x) sachant que classe={ Iris-setosa , Iris-versicolor, Iris-virginica }**"
   ]
  },
  {
   "cell_type": "markdown",
   "metadata": {},
   "source": [
    "<font color='red'><b>Iris-setosa<b></font>"
   ]
  },
  {
   "cell_type": "code",
   "execution_count": 205,
   "metadata": {},
   "outputs": [
    {
     "data": {
      "text/plain": [
       "1.0335111234820907e-150"
      ]
     },
     "execution_count": 205,
     "metadata": {},
     "output_type": "execute_result"
    }
   ],
   "source": [
    "np.prod(probability(df_ex6,[4.9,3.0,4.9,2.1],'Iris-setosa'))*proba_setosa"
   ]
  },
  {
   "cell_type": "markdown",
   "metadata": {},
   "source": [
    "<font color='red'><b>Iris-versicolor<b></font>"
   ]
  },
  {
   "cell_type": "code",
   "execution_count": 206,
   "metadata": {},
   "outputs": [
    {
     "data": {
      "text/plain": [
       "1.0670898697072345e-05"
      ]
     },
     "execution_count": 206,
     "metadata": {},
     "output_type": "execute_result"
    }
   ],
   "source": [
    "np.prod(probability(df_ex6,[4.9,3.0,4.9,2.1],'Iris-versicolor'))*proba_versicolor"
   ]
  },
  {
   "cell_type": "markdown",
   "metadata": {},
   "source": [
    "<font color='red'><b>Iris-virginica<b></font>"
   ]
  },
  {
   "cell_type": "code",
   "execution_count": 207,
   "metadata": {},
   "outputs": [
    {
     "data": {
      "text/plain": [
       "0.00383299003004266"
      ]
     },
     "execution_count": 207,
     "metadata": {},
     "output_type": "execute_result"
    }
   ],
   "source": [
    "np.prod(probability(df_ex6,[4.9,3.0,4.9,2.1],'Iris-virginica'))*proba_virginica"
   ]
  },
  {
   "cell_type": "markdown",
   "metadata": {},
   "source": [
    "<font color='green'><b>Donc x appartient la classe Iris-virginica</b></font>"
   ]
  }
 ],
 "metadata": {
  "kernelspec": {
   "display_name": "Python 3",
   "language": "python",
   "name": "python3"
  },
  "language_info": {
   "codemirror_mode": {
    "name": "ipython",
    "version": 3
   },
   "file_extension": ".py",
   "mimetype": "text/x-python",
   "name": "python",
   "nbconvert_exporter": "python",
   "pygments_lexer": "ipython3",
   "version": "3.8.5"
  }
 },
 "nbformat": 4,
 "nbformat_minor": 4
}
